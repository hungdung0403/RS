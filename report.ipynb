{
  "nbformat": 4,
  "nbformat_minor": 0,
  "metadata": {
    "colab": {
      "name": "HNK_RECOMMENDATIONS.ipynb",
      "provenance": [],
      "collapsed_sections": [
        "nCZml99AvTbW",
        "c1rgWRfZw15f",
        "YOSpwy6gTHA_",
        "2_wQrldVzEhm",
        "2ectHicA5A62",
        "2td35B186Dkd"
      ]
    },
    "kernelspec": {
      "name": "python3",
      "display_name": "Python 3"
    },
    "language_info": {
      "name": "python"
    },
    "accelerator": "GPU"
  },
  "cells": [
    {
      "cell_type": "markdown",
      "source": [
        "# IMPORT Library"
      ],
      "metadata": {
        "id": "agqzuU646Q3e"
      }
    },
    {
      "cell_type": "code",
      "source": [
        "pip install surprise "
      ],
      "metadata": {
        "id": "5BRi3BrEuf4p",
        "colab": {
          "base_uri": "https://localhost:8080/"
        },
        "outputId": "0923d4b6-e6ac-4272-b74a-c5a636464e63"
      },
      "execution_count": 5,
      "outputs": [
        {
          "output_type": "stream",
          "name": "stdout",
          "text": [
            "Collecting surprise\n",
            "  Using cached surprise-0.1-py2.py3-none-any.whl (1.8 kB)\n",
            "Collecting scikit-surprise\n",
            "  Downloading scikit-surprise-1.1.1.tar.gz (11.8 MB)\n",
            "\u001b[K     |████████████████████████████████| 11.8 MB 4.2 MB/s \n",
            "\u001b[?25hRequirement already satisfied: joblib>=0.11 in /usr/local/lib/python3.7/dist-packages (from scikit-surprise->surprise) (1.1.0)\n",
            "Requirement already satisfied: numpy>=1.11.2 in /usr/local/lib/python3.7/dist-packages (from scikit-surprise->surprise) (1.19.5)\n",
            "Requirement already satisfied: scipy>=1.0.0 in /usr/local/lib/python3.7/dist-packages (from scikit-surprise->surprise) (1.4.1)\n",
            "Requirement already satisfied: six>=1.10.0 in /usr/local/lib/python3.7/dist-packages (from scikit-surprise->surprise) (1.15.0)\n",
            "Building wheels for collected packages: scikit-surprise\n",
            "  Building wheel for scikit-surprise (setup.py) ... \u001b[?25l\u001b[?25hdone\n",
            "  Created wheel for scikit-surprise: filename=scikit_surprise-1.1.1-cp37-cp37m-linux_x86_64.whl size=1619450 sha256=731420b45322ef3c6b0f321de59234dbfdd49b48e8085b3f005d3fd841754600\n",
            "  Stored in directory: /root/.cache/pip/wheels/76/44/74/b498c42be47b2406bd27994e16c5188e337c657025ab400c1c\n",
            "Successfully built scikit-surprise\n",
            "Installing collected packages: scikit-surprise, surprise\n",
            "Successfully installed scikit-surprise-1.1.1 surprise-0.1\n"
          ]
        }
      ]
    },
    {
      "cell_type": "code",
      "metadata": {
        "id": "fzGZ8uBEthQq"
      },
      "source": [
        "import numpy as np \n",
        "import scipy as sp\n",
        "import pandas as pd\n",
        "from sklearn.feature_extraction.text import CountVectorizer\n",
        "from sklearn.metrics.pairwise import cosine_similarity\n",
        "from sklearn.metrics import mean_absolute_error\n",
        "from sklearn.model_selection import train_test_split\n",
        "from sklearn.metrics import mean_squared_error\n",
        "from sklearn.preprocessing import MinMaxScaler\n",
        "import matplotlib.pyplot as plt\n",
        "import seaborn as sns\n",
        "sns.set_style('white')\n",
        "%matplotlib inline"
      ],
      "execution_count": 2,
      "outputs": []
    },
    {
      "cell_type": "code",
      "source": [
        "import scipy.sparse\n",
        "from scipy.sparse import csr_matrix\n",
        "from scipy.sparse.linalg import svds"
      ],
      "metadata": {
        "id": "-VjAVj2fUFuu"
      },
      "execution_count": 3,
      "outputs": []
    },
    {
      "cell_type": "code",
      "source": [
        "import time\n",
        "from surprise import KNNWithMeans\n",
        "from surprise import KNNBasic, SVD\n",
        "from surprise import Reader\n",
        "from surprise import Dataset\n",
        "from surprise import accuracy"
      ],
      "metadata": {
        "id": "ii-YkZsvuyn7"
      },
      "execution_count": 6,
      "outputs": []
    },
    {
      "cell_type": "code",
      "source": [
        "from google.colab import drive\n",
        "drive.mount('/content/drive')"
      ],
      "metadata": {
        "id": "rHSo_I0SsL-a",
        "colab": {
          "base_uri": "https://localhost:8080/"
        },
        "outputId": "46e58d69-f125-4a0b-e7a6-5d7614187c87"
      },
      "execution_count": 7,
      "outputs": [
        {
          "output_type": "stream",
          "name": "stdout",
          "text": [
            "Drive already mounted at /content/drive; to attempt to forcibly remount, call drive.mount(\"/content/drive\", force_remount=True).\n"
          ]
        }
      ]
    },
    {
      "cell_type": "markdown",
      "source": [
        "# LOAD DATA "
      ],
      "metadata": {
        "id": "SQ4-VeLRvH1V"
      }
    },
    {
      "cell_type": "code",
      "metadata": {
        "id": "eoXLe3oBthUT"
      },
      "source": [
        "ratings = pd.read_csv(\"/content/drive/MyDrive/Video_Games_Amazon/ratings_Video_Games.csv\",names=['userId', 'productId','rating','timestamp'])"
      ],
      "execution_count": 8,
      "outputs": []
    },
    {
      "cell_type": "code",
      "source": [
        "reviews = pd.read_csv(\"/content/drive/MyDrive/Video_Games_Amazon/details_Video_Games.csv\")"
      ],
      "metadata": {
        "id": "Ln6YgUsha4wO"
      },
      "execution_count": 9,
      "outputs": []
    },
    {
      "cell_type": "code",
      "metadata": {
        "id": "3IgWbvMrthW0",
        "colab": {
          "base_uri": "https://localhost:8080/",
          "height": 0
        },
        "outputId": "fa8d9e20-de50-4bd9-c537-7d5badfe9506"
      },
      "source": [
        "ratings.head()"
      ],
      "execution_count": 10,
      "outputs": [
        {
          "output_type": "execute_result",
          "data": {
            "text/html": [
              "\n",
              "  <div id=\"df-71efe663-aae7-48c8-9f84-d5dea2327e64\">\n",
              "    <div class=\"colab-df-container\">\n",
              "      <div>\n",
              "<style scoped>\n",
              "    .dataframe tbody tr th:only-of-type {\n",
              "        vertical-align: middle;\n",
              "    }\n",
              "\n",
              "    .dataframe tbody tr th {\n",
              "        vertical-align: top;\n",
              "    }\n",
              "\n",
              "    .dataframe thead th {\n",
              "        text-align: right;\n",
              "    }\n",
              "</style>\n",
              "<table border=\"1\" class=\"dataframe\">\n",
              "  <thead>\n",
              "    <tr style=\"text-align: right;\">\n",
              "      <th></th>\n",
              "      <th>userId</th>\n",
              "      <th>productId</th>\n",
              "      <th>rating</th>\n",
              "      <th>timestamp</th>\n",
              "    </tr>\n",
              "  </thead>\n",
              "  <tbody>\n",
              "    <tr>\n",
              "      <th>0</th>\n",
              "      <td>AB9S9279OZ3QO</td>\n",
              "      <td>0078764343</td>\n",
              "      <td>5.0</td>\n",
              "      <td>1373155200</td>\n",
              "    </tr>\n",
              "    <tr>\n",
              "      <th>1</th>\n",
              "      <td>A24SSUT5CSW8BH</td>\n",
              "      <td>0078764343</td>\n",
              "      <td>5.0</td>\n",
              "      <td>1377302400</td>\n",
              "    </tr>\n",
              "    <tr>\n",
              "      <th>2</th>\n",
              "      <td>AK3V0HEBJMQ7J</td>\n",
              "      <td>0078764343</td>\n",
              "      <td>4.0</td>\n",
              "      <td>1372896000</td>\n",
              "    </tr>\n",
              "    <tr>\n",
              "      <th>3</th>\n",
              "      <td>A10BECPH7W8HM7</td>\n",
              "      <td>043933702X</td>\n",
              "      <td>5.0</td>\n",
              "      <td>1404950400</td>\n",
              "    </tr>\n",
              "    <tr>\n",
              "      <th>4</th>\n",
              "      <td>A2PRV9OULX1TWP</td>\n",
              "      <td>043933702X</td>\n",
              "      <td>5.0</td>\n",
              "      <td>1386115200</td>\n",
              "    </tr>\n",
              "  </tbody>\n",
              "</table>\n",
              "</div>\n",
              "      <button class=\"colab-df-convert\" onclick=\"convertToInteractive('df-71efe663-aae7-48c8-9f84-d5dea2327e64')\"\n",
              "              title=\"Convert this dataframe to an interactive table.\"\n",
              "              style=\"display:none;\">\n",
              "        \n",
              "  <svg xmlns=\"http://www.w3.org/2000/svg\" height=\"24px\"viewBox=\"0 0 24 24\"\n",
              "       width=\"24px\">\n",
              "    <path d=\"M0 0h24v24H0V0z\" fill=\"none\"/>\n",
              "    <path d=\"M18.56 5.44l.94 2.06.94-2.06 2.06-.94-2.06-.94-.94-2.06-.94 2.06-2.06.94zm-11 1L8.5 8.5l.94-2.06 2.06-.94-2.06-.94L8.5 2.5l-.94 2.06-2.06.94zm10 10l.94 2.06.94-2.06 2.06-.94-2.06-.94-.94-2.06-.94 2.06-2.06.94z\"/><path d=\"M17.41 7.96l-1.37-1.37c-.4-.4-.92-.59-1.43-.59-.52 0-1.04.2-1.43.59L10.3 9.45l-7.72 7.72c-.78.78-.78 2.05 0 2.83L4 21.41c.39.39.9.59 1.41.59.51 0 1.02-.2 1.41-.59l7.78-7.78 2.81-2.81c.8-.78.8-2.07 0-2.86zM5.41 20L4 18.59l7.72-7.72 1.47 1.35L5.41 20z\"/>\n",
              "  </svg>\n",
              "      </button>\n",
              "      \n",
              "  <style>\n",
              "    .colab-df-container {\n",
              "      display:flex;\n",
              "      flex-wrap:wrap;\n",
              "      gap: 12px;\n",
              "    }\n",
              "\n",
              "    .colab-df-convert {\n",
              "      background-color: #E8F0FE;\n",
              "      border: none;\n",
              "      border-radius: 50%;\n",
              "      cursor: pointer;\n",
              "      display: none;\n",
              "      fill: #1967D2;\n",
              "      height: 32px;\n",
              "      padding: 0 0 0 0;\n",
              "      width: 32px;\n",
              "    }\n",
              "\n",
              "    .colab-df-convert:hover {\n",
              "      background-color: #E2EBFA;\n",
              "      box-shadow: 0px 1px 2px rgba(60, 64, 67, 0.3), 0px 1px 3px 1px rgba(60, 64, 67, 0.15);\n",
              "      fill: #174EA6;\n",
              "    }\n",
              "\n",
              "    [theme=dark] .colab-df-convert {\n",
              "      background-color: #3B4455;\n",
              "      fill: #D2E3FC;\n",
              "    }\n",
              "\n",
              "    [theme=dark] .colab-df-convert:hover {\n",
              "      background-color: #434B5C;\n",
              "      box-shadow: 0px 1px 3px 1px rgba(0, 0, 0, 0.15);\n",
              "      filter: drop-shadow(0px 1px 2px rgba(0, 0, 0, 0.3));\n",
              "      fill: #FFFFFF;\n",
              "    }\n",
              "  </style>\n",
              "\n",
              "      <script>\n",
              "        const buttonEl =\n",
              "          document.querySelector('#df-71efe663-aae7-48c8-9f84-d5dea2327e64 button.colab-df-convert');\n",
              "        buttonEl.style.display =\n",
              "          google.colab.kernel.accessAllowed ? 'block' : 'none';\n",
              "\n",
              "        async function convertToInteractive(key) {\n",
              "          const element = document.querySelector('#df-71efe663-aae7-48c8-9f84-d5dea2327e64');\n",
              "          const dataTable =\n",
              "            await google.colab.kernel.invokeFunction('convertToInteractive',\n",
              "                                                     [key], {});\n",
              "          if (!dataTable) return;\n",
              "\n",
              "          const docLinkHtml = 'Like what you see? Visit the ' +\n",
              "            '<a target=\"_blank\" href=https://colab.research.google.com/notebooks/data_table.ipynb>data table notebook</a>'\n",
              "            + ' to learn more about interactive tables.';\n",
              "          element.innerHTML = '';\n",
              "          dataTable['output_type'] = 'display_data';\n",
              "          await google.colab.output.renderOutput(dataTable, element);\n",
              "          const docLink = document.createElement('div');\n",
              "          docLink.innerHTML = docLinkHtml;\n",
              "          element.appendChild(docLink);\n",
              "        }\n",
              "      </script>\n",
              "    </div>\n",
              "  </div>\n",
              "  "
            ],
            "text/plain": [
              "           userId   productId  rating   timestamp\n",
              "0   AB9S9279OZ3QO  0078764343     5.0  1373155200\n",
              "1  A24SSUT5CSW8BH  0078764343     5.0  1377302400\n",
              "2   AK3V0HEBJMQ7J  0078764343     4.0  1372896000\n",
              "3  A10BECPH7W8HM7  043933702X     5.0  1404950400\n",
              "4  A2PRV9OULX1TWP  043933702X     5.0  1386115200"
            ]
          },
          "metadata": {},
          "execution_count": 10
        }
      ]
    },
    {
      "cell_type": "code",
      "source": [
        "reviews.head()"
      ],
      "metadata": {
        "id": "mB0S1xqxbB9a",
        "colab": {
          "base_uri": "https://localhost:8080/",
          "height": 0
        },
        "outputId": "13bef3ab-3b1c-4876-f9b4-6c1c0670897f"
      },
      "execution_count": 11,
      "outputs": [
        {
          "output_type": "execute_result",
          "data": {
            "text/html": [
              "\n",
              "  <div id=\"df-acf2212b-8446-4fc7-99c3-fb0e77825599\">\n",
              "    <div class=\"colab-df-container\">\n",
              "      <div>\n",
              "<style scoped>\n",
              "    .dataframe tbody tr th:only-of-type {\n",
              "        vertical-align: middle;\n",
              "    }\n",
              "\n",
              "    .dataframe tbody tr th {\n",
              "        vertical-align: top;\n",
              "    }\n",
              "\n",
              "    .dataframe thead th {\n",
              "        text-align: right;\n",
              "    }\n",
              "</style>\n",
              "<table border=\"1\" class=\"dataframe\">\n",
              "  <thead>\n",
              "    <tr style=\"text-align: right;\">\n",
              "      <th></th>\n",
              "      <th>category</th>\n",
              "      <th>title</th>\n",
              "      <th>brand</th>\n",
              "      <th>productId</th>\n",
              "    </tr>\n",
              "  </thead>\n",
              "  <tbody>\n",
              "    <tr>\n",
              "      <th>0</th>\n",
              "      <td>Video Games| PC| Games</td>\n",
              "      <td>Reversi Sensory Challenger</td>\n",
              "      <td>Fidelity Electronics</td>\n",
              "      <td>42000742</td>\n",
              "    </tr>\n",
              "    <tr>\n",
              "      <th>1</th>\n",
              "      <td>Video Games| Xbox 360| Games</td>\n",
              "      <td>Medal of Honor Warfighter - Includes Battlefie...</td>\n",
              "      <td>by\\n    \\n    EA Games</td>\n",
              "      <td>78764343</td>\n",
              "    </tr>\n",
              "    <tr>\n",
              "      <th>2</th>\n",
              "      <td>Video Games| Retro Gaming  Microconsoles| Supe...</td>\n",
              "      <td>street fighter 2 II turbo super nintendo snes ...</td>\n",
              "      <td>Nintendo</td>\n",
              "      <td>276425316</td>\n",
              "    </tr>\n",
              "    <tr>\n",
              "      <th>3</th>\n",
              "      <td>Video Games| Xbox 360| Accessories| Controller...</td>\n",
              "      <td>Xbox 360 MAS STICK</td>\n",
              "      <td>by\\n    \\n    MAS SYSTEMS</td>\n",
              "      <td>324411812</td>\n",
              "    </tr>\n",
              "    <tr>\n",
              "      <th>4</th>\n",
              "      <td>Video Games| PC| Games|  Grades 2-12| Spelling...</td>\n",
              "      <td>Phonics Alive 3 The Speller</td>\n",
              "      <td>by\\n    \\n    Advanced Software Pty Ltd</td>\n",
              "      <td>439335310</td>\n",
              "    </tr>\n",
              "  </tbody>\n",
              "</table>\n",
              "</div>\n",
              "      <button class=\"colab-df-convert\" onclick=\"convertToInteractive('df-acf2212b-8446-4fc7-99c3-fb0e77825599')\"\n",
              "              title=\"Convert this dataframe to an interactive table.\"\n",
              "              style=\"display:none;\">\n",
              "        \n",
              "  <svg xmlns=\"http://www.w3.org/2000/svg\" height=\"24px\"viewBox=\"0 0 24 24\"\n",
              "       width=\"24px\">\n",
              "    <path d=\"M0 0h24v24H0V0z\" fill=\"none\"/>\n",
              "    <path d=\"M18.56 5.44l.94 2.06.94-2.06 2.06-.94-2.06-.94-.94-2.06-.94 2.06-2.06.94zm-11 1L8.5 8.5l.94-2.06 2.06-.94-2.06-.94L8.5 2.5l-.94 2.06-2.06.94zm10 10l.94 2.06.94-2.06 2.06-.94-2.06-.94-.94-2.06-.94 2.06-2.06.94z\"/><path d=\"M17.41 7.96l-1.37-1.37c-.4-.4-.92-.59-1.43-.59-.52 0-1.04.2-1.43.59L10.3 9.45l-7.72 7.72c-.78.78-.78 2.05 0 2.83L4 21.41c.39.39.9.59 1.41.59.51 0 1.02-.2 1.41-.59l7.78-7.78 2.81-2.81c.8-.78.8-2.07 0-2.86zM5.41 20L4 18.59l7.72-7.72 1.47 1.35L5.41 20z\"/>\n",
              "  </svg>\n",
              "      </button>\n",
              "      \n",
              "  <style>\n",
              "    .colab-df-container {\n",
              "      display:flex;\n",
              "      flex-wrap:wrap;\n",
              "      gap: 12px;\n",
              "    }\n",
              "\n",
              "    .colab-df-convert {\n",
              "      background-color: #E8F0FE;\n",
              "      border: none;\n",
              "      border-radius: 50%;\n",
              "      cursor: pointer;\n",
              "      display: none;\n",
              "      fill: #1967D2;\n",
              "      height: 32px;\n",
              "      padding: 0 0 0 0;\n",
              "      width: 32px;\n",
              "    }\n",
              "\n",
              "    .colab-df-convert:hover {\n",
              "      background-color: #E2EBFA;\n",
              "      box-shadow: 0px 1px 2px rgba(60, 64, 67, 0.3), 0px 1px 3px 1px rgba(60, 64, 67, 0.15);\n",
              "      fill: #174EA6;\n",
              "    }\n",
              "\n",
              "    [theme=dark] .colab-df-convert {\n",
              "      background-color: #3B4455;\n",
              "      fill: #D2E3FC;\n",
              "    }\n",
              "\n",
              "    [theme=dark] .colab-df-convert:hover {\n",
              "      background-color: #434B5C;\n",
              "      box-shadow: 0px 1px 3px 1px rgba(0, 0, 0, 0.15);\n",
              "      filter: drop-shadow(0px 1px 2px rgba(0, 0, 0, 0.3));\n",
              "      fill: #FFFFFF;\n",
              "    }\n",
              "  </style>\n",
              "\n",
              "      <script>\n",
              "        const buttonEl =\n",
              "          document.querySelector('#df-acf2212b-8446-4fc7-99c3-fb0e77825599 button.colab-df-convert');\n",
              "        buttonEl.style.display =\n",
              "          google.colab.kernel.accessAllowed ? 'block' : 'none';\n",
              "\n",
              "        async function convertToInteractive(key) {\n",
              "          const element = document.querySelector('#df-acf2212b-8446-4fc7-99c3-fb0e77825599');\n",
              "          const dataTable =\n",
              "            await google.colab.kernel.invokeFunction('convertToInteractive',\n",
              "                                                     [key], {});\n",
              "          if (!dataTable) return;\n",
              "\n",
              "          const docLinkHtml = 'Like what you see? Visit the ' +\n",
              "            '<a target=\"_blank\" href=https://colab.research.google.com/notebooks/data_table.ipynb>data table notebook</a>'\n",
              "            + ' to learn more about interactive tables.';\n",
              "          element.innerHTML = '';\n",
              "          dataTable['output_type'] = 'display_data';\n",
              "          await google.colab.output.renderOutput(dataTable, element);\n",
              "          const docLink = document.createElement('div');\n",
              "          docLink.innerHTML = docLinkHtml;\n",
              "          element.appendChild(docLink);\n",
              "        }\n",
              "      </script>\n",
              "    </div>\n",
              "  </div>\n",
              "  "
            ],
            "text/plain": [
              "                                            category  ...  productId\n",
              "0                             Video Games| PC| Games  ...   42000742\n",
              "1                       Video Games| Xbox 360| Games  ...   78764343\n",
              "2  Video Games| Retro Gaming  Microconsoles| Supe...  ...  276425316\n",
              "3  Video Games| Xbox 360| Accessories| Controller...  ...  324411812\n",
              "4  Video Games| PC| Games|  Grades 2-12| Spelling...  ...  439335310\n",
              "\n",
              "[5 rows x 4 columns]"
            ]
          },
          "metadata": {},
          "execution_count": 11
        }
      ]
    },
    {
      "cell_type": "code",
      "metadata": {
        "id": "y3Ca2dMxthZZ",
        "colab": {
          "base_uri": "https://localhost:8080/"
        },
        "outputId": "1f84c19c-ba04-408c-870f-25b9f031bb92"
      },
      "source": [
        "print(\"Total Reviews:\",ratings.shape[0])\n",
        "print(\"Total Columns:\",ratings.shape[1])"
      ],
      "execution_count": 12,
      "outputs": [
        {
          "output_type": "stream",
          "name": "stdout",
          "text": [
            "Total Reviews: 1324753\n",
            "Total Columns: 4\n"
          ]
        }
      ]
    },
    {
      "cell_type": "code",
      "metadata": {
        "id": "sglKHZ6ZthcE",
        "colab": {
          "base_uri": "https://localhost:8080/"
        },
        "outputId": "3e3d331c-698c-4e5f-bd1e-78f408ef94d1"
      },
      "source": [
        "print(\"Total number of ratings :\",ratings.rating.nunique())\n",
        "print(\"Total number of users   :\", ratings.userId.nunique())\n",
        "print(\"Total number of products  :\", ratings.productId.nunique())\n"
      ],
      "execution_count": 13,
      "outputs": [
        {
          "output_type": "stream",
          "name": "stdout",
          "text": [
            "Total number of ratings : 5\n",
            "Total number of users   : 826767\n",
            "Total number of products  : 50210\n"
          ]
        }
      ]
    },
    {
      "cell_type": "code",
      "source": [
        "print(\"Total number of products  :\", reviews.productId.nunique())"
      ],
      "metadata": {
        "id": "ladCiK9F6lW6",
        "colab": {
          "base_uri": "https://localhost:8080/"
        },
        "outputId": "24d9409c-9851-4cf3-f9ec-b6164ac46f49"
      },
      "execution_count": 14,
      "outputs": [
        {
          "output_type": "stream",
          "name": "stdout",
          "text": [
            "Total number of products  : 68137\n"
          ]
        }
      ]
    },
    {
      "cell_type": "code",
      "source": [
        "ratings.shape"
      ],
      "metadata": {
        "id": "aGP2_Gk3wn3u",
        "colab": {
          "base_uri": "https://localhost:8080/"
        },
        "outputId": "fa6c5694-43f8-49ef-9a8c-3b4a19c725a3"
      },
      "execution_count": 15,
      "outputs": [
        {
          "output_type": "execute_result",
          "data": {
            "text/plain": [
              "(1324753, 4)"
            ]
          },
          "metadata": {},
          "execution_count": 15
        }
      ]
    },
    {
      "cell_type": "code",
      "metadata": {
        "id": "3U_UO8FDwBp0",
        "colab": {
          "base_uri": "https://localhost:8080/"
        },
        "outputId": "779971b5-c1ab-438a-db1a-64a4a006da5b"
      },
      "source": [
        "ratings.info()"
      ],
      "execution_count": 16,
      "outputs": [
        {
          "output_type": "stream",
          "name": "stdout",
          "text": [
            "<class 'pandas.core.frame.DataFrame'>\n",
            "RangeIndex: 1324753 entries, 0 to 1324752\n",
            "Data columns (total 4 columns):\n",
            " #   Column     Non-Null Count    Dtype  \n",
            "---  ------     --------------    -----  \n",
            " 0   userId     1324753 non-null  object \n",
            " 1   productId  1324753 non-null  object \n",
            " 2   rating     1324753 non-null  float64\n",
            " 3   timestamp  1324753 non-null  int64  \n",
            "dtypes: float64(1), int64(1), object(2)\n",
            "memory usage: 40.4+ MB\n"
          ]
        }
      ]
    },
    {
      "cell_type": "markdown",
      "source": [
        "# Xử lí Data "
      ],
      "metadata": {
        "id": "nCZml99AvTbW"
      }
    },
    {
      "cell_type": "code",
      "metadata": {
        "id": "XdlR3zyQwBsr",
        "colab": {
          "base_uri": "https://localhost:8080/"
        },
        "outputId": "359cc49a-429c-4b3e-cf20-88d01e88310f"
      },
      "source": [
        "# Kiểm tra giá trị thiếu\n",
        "ratings.isnull().sum()"
      ],
      "execution_count": 17,
      "outputs": [
        {
          "output_type": "execute_result",
          "data": {
            "text/plain": [
              "userId       0\n",
              "productId    0\n",
              "rating       0\n",
              "timestamp    0\n",
              "dtype: int64"
            ]
          },
          "metadata": {},
          "execution_count": 17
        }
      ]
    },
    {
      "cell_type": "code",
      "metadata": {
        "id": "F-dY3osWwBvL",
        "colab": {
          "base_uri": "https://localhost:8080/"
        },
        "outputId": "0fd7c3cd-7c69-45bb-f3f3-cb3ba97246f4"
      },
      "source": [
        "# Kiểm tra data trùng \n",
        "ratings[ratings.duplicated()].any()"
      ],
      "execution_count": 18,
      "outputs": [
        {
          "output_type": "execute_result",
          "data": {
            "text/plain": [
              "userId       False\n",
              "productId    False\n",
              "rating       False\n",
              "timestamp    False\n",
              "dtype: bool"
            ]
          },
          "metadata": {},
          "execution_count": 18
        }
      ]
    },
    {
      "cell_type": "code",
      "metadata": {
        "id": "aiQHvLwhwBx8",
        "colab": {
          "base_uri": "https://localhost:8080/"
        },
        "outputId": "76846cf9-db41-4a25-ea27-7a44f0ae33a7"
      },
      "source": [
        "ratings.describe()['rating']"
      ],
      "execution_count": 19,
      "outputs": [
        {
          "output_type": "execute_result",
          "data": {
            "text/plain": [
              "count    1.324753e+06\n",
              "mean     3.978754e+00\n",
              "std      1.378987e+00\n",
              "min      1.000000e+00\n",
              "25%      3.000000e+00\n",
              "50%      5.000000e+00\n",
              "75%      5.000000e+00\n",
              "max      5.000000e+00\n",
              "Name: rating, dtype: float64"
            ]
          },
          "metadata": {},
          "execution_count": 19
        }
      ]
    },
    {
      "cell_type": "code",
      "metadata": {
        "id": "q5--j7N9wB04",
        "colab": {
          "base_uri": "https://localhost:8080/",
          "height": 0
        },
        "outputId": "75bef327-7fb2-4152-b78b-3c44f22a3d99"
      },
      "source": [
        "# phân bố các giá trị rating\n",
        "with sns.axes_style('white'):\n",
        "    g = sns.factorplot(\"rating\", data=ratings, aspect=2.0,kind='count')\n",
        "    g.set_ylabels(\"Total number of ratings\")"
      ],
      "execution_count": 20,
      "outputs": [
        {
          "output_type": "stream",
          "name": "stderr",
          "text": [
            "/usr/local/lib/python3.7/dist-packages/seaborn/categorical.py:3717: UserWarning: The `factorplot` function has been renamed to `catplot`. The original name will be removed in a future release. Please update your code. Note that the default `kind` in `factorplot` (`'point'`) has changed `'strip'` in `catplot`.\n",
            "  warnings.warn(msg)\n",
            "/usr/local/lib/python3.7/dist-packages/seaborn/_decorators.py:43: FutureWarning: Pass the following variable as a keyword arg: x. From version 0.12, the only valid positional argument will be `data`, and passing other arguments without an explicit keyword will result in an error or misinterpretation.\n",
            "  FutureWarning\n"
          ]
        },
        {
          "output_type": "display_data",
          "data": {
            "image/png": "[encoded data removed]",
            "text/plain": [
              "<Figure size 720x360 with 1 Axes>"
            ]
          },
          "metadata": {}
        }
      ]
    },
    {
      "cell_type": "code",
      "source": [
        "ratings['rating'].mean()"
      ],
      "metadata": {
        "id": "VLuOoGNe7qnu",
        "colab": {
          "base_uri": "https://localhost:8080/"
        },
        "outputId": "9e7e0dbd-812e-407b-b2b1-9bcf1df04feb"
      },
      "execution_count": 21,
      "outputs": [
        {
          "output_type": "execute_result",
          "data": {
            "text/plain": [
              "3.9787537752320623"
            ]
          },
          "metadata": {},
          "execution_count": 21
        }
      ]
    },
    {
      "cell_type": "code",
      "source": [
        "# xoá cột timestamp\n",
        "ratings.drop(['timestamp'], axis=1,inplace=True)"
      ],
      "metadata": {
        "id": "lNdBM3-1wNwu"
      },
      "execution_count": 22,
      "outputs": []
    },
    {
      "cell_type": "markdown",
      "source": [
        "# Phân tích rating của sản phẩm \n"
      ],
      "metadata": {
        "id": "c1rgWRfZw15f"
      }
    },
    {
      "cell_type": "code",
      "metadata": {
        "id": "WEtuKkkJwB6T",
        "colab": {
          "base_uri": "https://localhost:8080/",
          "height": 0
        },
        "outputId": "33574422-16f8-494a-862e-3beec8186c72"
      },
      "source": [
        "# ratings trung bình của sản phẩm \n",
        "rating_df = pd.DataFrame(ratings.groupby('productId')['rating'].mean())\n",
        "rating_df['ratings_count'] = pd.DataFrame(ratings.groupby('productId')['rating'].count())\n",
        "rating_df['ratings_average'] = pd.DataFrame(ratings.groupby('productId')['rating'].mean())\n",
        "rating_df.head(10)"
      ],
      "execution_count": 23,
      "outputs": [
        {
          "output_type": "execute_result",
          "data": {
            "text/html": [
              "\n",
              "  <div id=\"df-835fdb6d-6d9e-467e-8a5d-004a86606e40\">\n",
              "    <div class=\"colab-df-container\">\n",
              "      <div>\n",
              "<style scoped>\n",
              "    .dataframe tbody tr th:only-of-type {\n",
              "        vertical-align: middle;\n",
              "    }\n",
              "\n",
              "    .dataframe tbody tr th {\n",
              "        vertical-align: top;\n",
              "    }\n",
              "\n",
              "    .dataframe thead th {\n",
              "        text-align: right;\n",
              "    }\n",
              "</style>\n",
              "<table border=\"1\" class=\"dataframe\">\n",
              "  <thead>\n",
              "    <tr style=\"text-align: right;\">\n",
              "      <th></th>\n",
              "      <th>rating</th>\n",
              "      <th>ratings_count</th>\n",
              "      <th>ratings_average</th>\n",
              "    </tr>\n",
              "    <tr>\n",
              "      <th>productId</th>\n",
              "      <th></th>\n",
              "      <th></th>\n",
              "      <th></th>\n",
              "    </tr>\n",
              "  </thead>\n",
              "  <tbody>\n",
              "    <tr>\n",
              "      <th>0078764343</th>\n",
              "      <td>4.666667</td>\n",
              "      <td>3</td>\n",
              "      <td>4.666667</td>\n",
              "    </tr>\n",
              "    <tr>\n",
              "      <th>043933702X</th>\n",
              "      <td>4.000000</td>\n",
              "      <td>4</td>\n",
              "      <td>4.000000</td>\n",
              "    </tr>\n",
              "    <tr>\n",
              "      <th>0439339960</th>\n",
              "      <td>3.000000</td>\n",
              "      <td>1</td>\n",
              "      <td>3.000000</td>\n",
              "    </tr>\n",
              "    <tr>\n",
              "      <th>0439339987</th>\n",
              "      <td>5.000000</td>\n",
              "      <td>1</td>\n",
              "      <td>5.000000</td>\n",
              "    </tr>\n",
              "    <tr>\n",
              "      <th>0439342260</th>\n",
              "      <td>4.000000</td>\n",
              "      <td>1</td>\n",
              "      <td>4.000000</td>\n",
              "    </tr>\n",
              "    <tr>\n",
              "      <th>0439374391</th>\n",
              "      <td>5.000000</td>\n",
              "      <td>1</td>\n",
              "      <td>5.000000</td>\n",
              "    </tr>\n",
              "    <tr>\n",
              "      <th>0439394422</th>\n",
              "      <td>4.000000</td>\n",
              "      <td>2</td>\n",
              "      <td>4.000000</td>\n",
              "    </tr>\n",
              "    <tr>\n",
              "      <th>043940133X</th>\n",
              "      <td>3.285714</td>\n",
              "      <td>7</td>\n",
              "      <td>3.285714</td>\n",
              "    </tr>\n",
              "    <tr>\n",
              "      <th>0439573947</th>\n",
              "      <td>4.666667</td>\n",
              "      <td>3</td>\n",
              "      <td>4.666667</td>\n",
              "    </tr>\n",
              "    <tr>\n",
              "      <th>0439591295</th>\n",
              "      <td>5.000000</td>\n",
              "      <td>2</td>\n",
              "      <td>5.000000</td>\n",
              "    </tr>\n",
              "  </tbody>\n",
              "</table>\n",
              "</div>\n",
              "      <button class=\"colab-df-convert\" onclick=\"convertToInteractive('df-835fdb6d-6d9e-467e-8a5d-004a86606e40')\"\n",
              "              title=\"Convert this dataframe to an interactive table.\"\n",
              "              style=\"display:none;\">\n",
              "        \n",
              "  <svg xmlns=\"http://www.w3.org/2000/svg\" height=\"24px\"viewBox=\"0 0 24 24\"\n",
              "       width=\"24px\">\n",
              "    <path d=\"M0 0h24v24H0V0z\" fill=\"none\"/>\n",
              "    <path d=\"M18.56 5.44l.94 2.06.94-2.06 2.06-.94-2.06-.94-.94-2.06-.94 2.06-2.06.94zm-11 1L8.5 8.5l.94-2.06 2.06-.94-2.06-.94L8.5 2.5l-.94 2.06-2.06.94zm10 10l.94 2.06.94-2.06 2.06-.94-2.06-.94-.94-2.06-.94 2.06-2.06.94z\"/><path d=\"M17.41 7.96l-1.37-1.37c-.4-.4-.92-.59-1.43-.59-.52 0-1.04.2-1.43.59L10.3 9.45l-7.72 7.72c-.78.78-.78 2.05 0 2.83L4 21.41c.39.39.9.59 1.41.59.51 0 1.02-.2 1.41-.59l7.78-7.78 2.81-2.81c.8-.78.8-2.07 0-2.86zM5.41 20L4 18.59l7.72-7.72 1.47 1.35L5.41 20z\"/>\n",
              "  </svg>\n",
              "      </button>\n",
              "      \n",
              "  <style>\n",
              "    .colab-df-container {\n",
              "      display:flex;\n",
              "      flex-wrap:wrap;\n",
              "      gap: 12px;\n",
              "    }\n",
              "\n",
              "    .colab-df-convert {\n",
              "      background-color: #E8F0FE;\n",
              "      border: none;\n",
              "      border-radius: 50%;\n",
              "      cursor: pointer;\n",
              "      display: none;\n",
              "      fill: #1967D2;\n",
              "      height: 32px;\n",
              "      padding: 0 0 0 0;\n",
              "      width: 32px;\n",
              "    }\n",
              "\n",
              "    .colab-df-convert:hover {\n",
              "      background-color: #E2EBFA;\n",
              "      box-shadow: 0px 1px 2px rgba(60, 64, 67, 0.3), 0px 1px 3px 1px rgba(60, 64, 67, 0.15);\n",
              "      fill: #174EA6;\n",
              "    }\n",
              "\n",
              "    [theme=dark] .colab-df-convert {\n",
              "      background-color: #3B4455;\n",
              "      fill: #D2E3FC;\n",
              "    }\n",
              "\n",
              "    [theme=dark] .colab-df-convert:hover {\n",
              "      background-color: #434B5C;\n",
              "      box-shadow: 0px 1px 3px 1px rgba(0, 0, 0, 0.15);\n",
              "      filter: drop-shadow(0px 1px 2px rgba(0, 0, 0, 0.3));\n",
              "      fill: #FFFFFF;\n",
              "    }\n",
              "  </style>\n",
              "\n",
              "      <script>\n",
              "        const buttonEl =\n",
              "          document.querySelector('#df-835fdb6d-6d9e-467e-8a5d-004a86606e40 button.colab-df-convert');\n",
              "        buttonEl.style.display =\n",
              "          google.colab.kernel.accessAllowed ? 'block' : 'none';\n",
              "\n",
              "        async function convertToInteractive(key) {\n",
              "          const element = document.querySelector('#df-835fdb6d-6d9e-467e-8a5d-004a86606e40');\n",
              "          const dataTable =\n",
              "            await google.colab.kernel.invokeFunction('convertToInteractive',\n",
              "                                                     [key], {});\n",
              "          if (!dataTable) return;\n",
              "\n",
              "          const docLinkHtml = 'Like what you see? Visit the ' +\n",
              "            '<a target=\"_blank\" href=https://colab.research.google.com/notebooks/data_table.ipynb>data table notebook</a>'\n",
              "            + ' to learn more about interactive tables.';\n",
              "          element.innerHTML = '';\n",
              "          dataTable['output_type'] = 'display_data';\n",
              "          await google.colab.output.renderOutput(dataTable, element);\n",
              "          const docLink = document.createElement('div');\n",
              "          docLink.innerHTML = docLinkHtml;\n",
              "          element.appendChild(docLink);\n",
              "        }\n",
              "      </script>\n",
              "    </div>\n",
              "  </div>\n",
              "  "
            ],
            "text/plain": [
              "              rating  ratings_count  ratings_average\n",
              "productId                                           \n",
              "0078764343  4.666667              3         4.666667\n",
              "043933702X  4.000000              4         4.000000\n",
              "0439339960  3.000000              1         3.000000\n",
              "0439339987  5.000000              1         5.000000\n",
              "0439342260  4.000000              1         4.000000\n",
              "0439374391  5.000000              1         5.000000\n",
              "0439394422  4.000000              2         4.000000\n",
              "043940133X  3.285714              7         3.285714\n",
              "0439573947  4.666667              3         4.666667\n",
              "0439591295  5.000000              2         5.000000"
            ]
          },
          "metadata": {},
          "execution_count": 23
        }
      ]
    },
    {
      "cell_type": "code",
      "metadata": {
        "id": "bbtyC_4ewB9M",
        "colab": {
          "base_uri": "https://localhost:8080/",
          "height": 0
        },
        "outputId": "f7d4d570-b83c-481c-c5e6-af4c85b01f91"
      },
      "source": [
        "plt.figure(figsize=(10,4))\n",
        "rating_df['rating'].hist(bins=70)"
      ],
      "execution_count": 24,
      "outputs": [
        {
          "output_type": "execute_result",
          "data": {
            "text/plain": [
              "<matplotlib.axes._subplots.AxesSubplot at 0x7f6030980310>"
            ]
          },
          "metadata": {},
          "execution_count": 24
        },
        {
          "output_type": "display_data",
          "data": {
            "image/png": "[encoded data removed]",
            "text/plain": [
              "<Figure size 720x288 with 1 Axes>"
            ]
          },
          "metadata": {
            "needs_background": "light"
          }
        }
      ]
    },
    {
      "cell_type": "code",
      "metadata": {
        "id": "3PuqbswwyMsv",
        "colab": {
          "base_uri": "https://localhost:8080/",
          "height": 0
        },
        "outputId": "22daab42-fce2-4833-d15f-c2a44b84be50"
      },
      "source": [
        "sns.jointplot(x='rating',y='ratings_count',data=rating_df,alpha=0.5)"
      ],
      "execution_count": 25,
      "outputs": [
        {
          "output_type": "execute_result",
          "data": {
            "text/plain": [
              "<seaborn.axisgrid.JointGrid at 0x7f602848c3d0>"
            ]
          },
          "metadata": {},
          "execution_count": 25
        },
        {
          "output_type": "display_data",
          "data": {
            "image/png": "[encoded data removed]",
            "text/plain": [
              "<Figure size 432x432 with 3 Axes>"
            ]
          },
          "metadata": {
            "needs_background": "light"
          }
        }
      ]
    },
    {
      "cell_type": "code",
      "metadata": {
        "id": "dSLhCK_hyMvd",
        "colab": {
          "base_uri": "https://localhost:8080/",
          "height": 0
        },
        "outputId": "d27c18b4-98ab-416b-f7c0-76d8c593fd18"
      },
      "source": [
        "# 10 sản phẩm hàng đầu\n",
        "popular_products = pd.DataFrame(ratings.groupby('productId')['rating'].count())\n",
        "most_popular = popular_products.sort_values('rating', ascending=False)\n",
        "most_popular.head(10).plot(kind = \"bar\",figsize=(12, 4))"
      ],
      "execution_count": 26,
      "outputs": [
        {
          "output_type": "execute_result",
          "data": {
            "text/plain": [
              "<matplotlib.axes._subplots.AxesSubplot at 0x7f60264b3e50>"
            ]
          },
          "metadata": {},
          "execution_count": 26
        },
        {
          "output_type": "display_data",
          "data": {
            "image/png": "[encoded data removed]",
            "text/plain": [
              "<Figure size 864x288 with 1 Axes>"
            ]
          },
          "metadata": {
            "needs_background": "light"
          }
        }
      ]
    },
    {
      "cell_type": "markdown",
      "source": [
        "# split data train/test 6-4\n"
      ],
      "metadata": {
        "id": "2_wQrldVzEhm"
      }
    },
    {
      "cell_type": "code",
      "source": [
        "# lấy ra top những người dùng có 20 rating trở lên \n",
        "userID = ratings.groupby('userId').count()"
      ],
      "metadata": {
        "id": "mlo3mrkG3j1g"
      },
      "execution_count": 27,
      "outputs": []
    },
    {
      "cell_type": "code",
      "source": [
        "top_user = userID[userID['rating'] >= 20].index"
      ],
      "metadata": {
        "id": "FHaIR9il3j4a"
      },
      "execution_count": 28,
      "outputs": []
    },
    {
      "cell_type": "code",
      "source": [
        "topuser_ratings_df = ratings[ratings['userId'].isin(top_user)]"
      ],
      "metadata": {
        "id": "vRdTmgrV3j7R"
      },
      "execution_count": 29,
      "outputs": []
    },
    {
      "cell_type": "code",
      "source": [
        "topuser_ratings_df.shape"
      ],
      "metadata": {
        "id": "_7GzALOk3j94",
        "colab": {
          "base_uri": "https://localhost:8080/"
        },
        "outputId": "a3ee0817-1ec2-4db4-9569-6dea768737fd"
      },
      "execution_count": 30,
      "outputs": [
        {
          "output_type": "execute_result",
          "data": {
            "text/plain": [
              "(80305, 3)"
            ]
          },
          "metadata": {},
          "execution_count": 30
        }
      ]
    },
    {
      "cell_type": "code",
      "source": [
        "topuser_ratings_df.head()"
      ],
      "metadata": {
        "id": "sy6OkyNw3kBQ",
        "colab": {
          "base_uri": "https://localhost:8080/",
          "height": 0
        },
        "outputId": "1bda9452-1b75-41f9-a859-5f6a49e66571"
      },
      "execution_count": 31,
      "outputs": [
        {
          "output_type": "execute_result",
          "data": {
            "text/html": [
              "\n",
              "  <div id=\"df-2e55e2c3-f7c0-42c0-981c-36778aa44283\">\n",
              "    <div class=\"colab-df-container\">\n",
              "      <div>\n",
              "<style scoped>\n",
              "    .dataframe tbody tr th:only-of-type {\n",
              "        vertical-align: middle;\n",
              "    }\n",
              "\n",
              "    .dataframe tbody tr th {\n",
              "        vertical-align: top;\n",
              "    }\n",
              "\n",
              "    .dataframe thead th {\n",
              "        text-align: right;\n",
              "    }\n",
              "</style>\n",
              "<table border=\"1\" class=\"dataframe\">\n",
              "  <thead>\n",
              "    <tr style=\"text-align: right;\">\n",
              "      <th></th>\n",
              "      <th>userId</th>\n",
              "      <th>productId</th>\n",
              "      <th>rating</th>\n",
              "    </tr>\n",
              "  </thead>\n",
              "  <tbody>\n",
              "    <tr>\n",
              "      <th>36</th>\n",
              "      <td>AFWPLXT2OD6H1</td>\n",
              "      <td>0439715571</td>\n",
              "      <td>4.0</td>\n",
              "    </tr>\n",
              "    <tr>\n",
              "      <th>37</th>\n",
              "      <td>A1P478YKNZYVXE</td>\n",
              "      <td>0439715571</td>\n",
              "      <td>4.0</td>\n",
              "    </tr>\n",
              "    <tr>\n",
              "      <th>51</th>\n",
              "      <td>A1E2ODNEYJ1UWX</td>\n",
              "      <td>0545112141</td>\n",
              "      <td>5.0</td>\n",
              "    </tr>\n",
              "    <tr>\n",
              "      <th>96</th>\n",
              "      <td>A361M14PU2GUEG</td>\n",
              "      <td>0700099867</td>\n",
              "      <td>4.0</td>\n",
              "    </tr>\n",
              "    <tr>\n",
              "      <th>109</th>\n",
              "      <td>A1QJJU33VNC4S7</td>\n",
              "      <td>0700099867</td>\n",
              "      <td>4.0</td>\n",
              "    </tr>\n",
              "  </tbody>\n",
              "</table>\n",
              "</div>\n",
              "      <button class=\"colab-df-convert\" onclick=\"convertToInteractive('df-2e55e2c3-f7c0-42c0-981c-36778aa44283')\"\n",
              "              title=\"Convert this dataframe to an interactive table.\"\n",
              "              style=\"display:none;\">\n",
              "        \n",
              "  <svg xmlns=\"http://www.w3.org/2000/svg\" height=\"24px\"viewBox=\"0 0 24 24\"\n",
              "       width=\"24px\">\n",
              "    <path d=\"M0 0h24v24H0V0z\" fill=\"none\"/>\n",
              "    <path d=\"M18.56 5.44l.94 2.06.94-2.06 2.06-.94-2.06-.94-.94-2.06-.94 2.06-2.06.94zm-11 1L8.5 8.5l.94-2.06 2.06-.94-2.06-.94L8.5 2.5l-.94 2.06-2.06.94zm10 10l.94 2.06.94-2.06 2.06-.94-2.06-.94-.94-2.06-.94 2.06-2.06.94z\"/><path d=\"M17.41 7.96l-1.37-1.37c-.4-.4-.92-.59-1.43-.59-.52 0-1.04.2-1.43.59L10.3 9.45l-7.72 7.72c-.78.78-.78 2.05 0 2.83L4 21.41c.39.39.9.59 1.41.59.51 0 1.02-.2 1.41-.59l7.78-7.78 2.81-2.81c.8-.78.8-2.07 0-2.86zM5.41 20L4 18.59l7.72-7.72 1.47 1.35L5.41 20z\"/>\n",
              "  </svg>\n",
              "      </button>\n",
              "      \n",
              "  <style>\n",
              "    .colab-df-container {\n",
              "      display:flex;\n",
              "      flex-wrap:wrap;\n",
              "      gap: 12px;\n",
              "    }\n",
              "\n",
              "    .colab-df-convert {\n",
              "      background-color: #E8F0FE;\n",
              "      border: none;\n",
              "      border-radius: 50%;\n",
              "      cursor: pointer;\n",
              "      display: none;\n",
              "      fill: #1967D2;\n",
              "      height: 32px;\n",
              "      padding: 0 0 0 0;\n",
              "      width: 32px;\n",
              "    }\n",
              "\n",
              "    .colab-df-convert:hover {\n",
              "      background-color: #E2EBFA;\n",
              "      box-shadow: 0px 1px 2px rgba(60, 64, 67, 0.3), 0px 1px 3px 1px rgba(60, 64, 67, 0.15);\n",
              "      fill: #174EA6;\n",
              "    }\n",
              "\n",
              "    [theme=dark] .colab-df-convert {\n",
              "      background-color: #3B4455;\n",
              "      fill: #D2E3FC;\n",
              "    }\n",
              "\n",
              "    [theme=dark] .colab-df-convert:hover {\n",
              "      background-color: #434B5C;\n",
              "      box-shadow: 0px 1px 3px 1px rgba(0, 0, 0, 0.15);\n",
              "      filter: drop-shadow(0px 1px 2px rgba(0, 0, 0, 0.3));\n",
              "      fill: #FFFFFF;\n",
              "    }\n",
              "  </style>\n",
              "\n",
              "      <script>\n",
              "        const buttonEl =\n",
              "          document.querySelector('#df-2e55e2c3-f7c0-42c0-981c-36778aa44283 button.colab-df-convert');\n",
              "        buttonEl.style.display =\n",
              "          google.colab.kernel.accessAllowed ? 'block' : 'none';\n",
              "\n",
              "        async function convertToInteractive(key) {\n",
              "          const element = document.querySelector('#df-2e55e2c3-f7c0-42c0-981c-36778aa44283');\n",
              "          const dataTable =\n",
              "            await google.colab.kernel.invokeFunction('convertToInteractive',\n",
              "                                                     [key], {});\n",
              "          if (!dataTable) return;\n",
              "\n",
              "          const docLinkHtml = 'Like what you see? Visit the ' +\n",
              "            '<a target=\"_blank\" href=https://colab.research.google.com/notebooks/data_table.ipynb>data table notebook</a>'\n",
              "            + ' to learn more about interactive tables.';\n",
              "          element.innerHTML = '';\n",
              "          dataTable['output_type'] = 'display_data';\n",
              "          await google.colab.output.renderOutput(dataTable, element);\n",
              "          const docLink = document.createElement('div');\n",
              "          docLink.innerHTML = docLinkHtml;\n",
              "          element.appendChild(docLink);\n",
              "        }\n",
              "      </script>\n",
              "    </div>\n",
              "  </div>\n",
              "  "
            ],
            "text/plain": [
              "             userId   productId  rating\n",
              "36    AFWPLXT2OD6H1  0439715571     4.0\n",
              "37   A1P478YKNZYVXE  0439715571     4.0\n",
              "51   A1E2ODNEYJ1UWX  0545112141     5.0\n",
              "96   A361M14PU2GUEG  0700099867     4.0\n",
              "109  A1QJJU33VNC4S7  0700099867     4.0"
            ]
          },
          "metadata": {},
          "execution_count": 31
        }
      ]
    },
    {
      "cell_type": "code",
      "source": [
        "topuser_ratings_df.sort_values(by='rating', ascending=False).head()"
      ],
      "metadata": {
        "id": "lsFGHUT33kFP",
        "colab": {
          "base_uri": "https://localhost:8080/",
          "height": 0
        },
        "outputId": "6f065f75-afaf-4ba7-d8f3-9c2dcc6ff7b2"
      },
      "execution_count": 32,
      "outputs": [
        {
          "output_type": "execute_result",
          "data": {
            "text/html": [
              "\n",
              "  <div id=\"df-d17747c4-0d96-4363-ab31-c2b901ba11b5\">\n",
              "    <div class=\"colab-df-container\">\n",
              "      <div>\n",
              "<style scoped>\n",
              "    .dataframe tbody tr th:only-of-type {\n",
              "        vertical-align: middle;\n",
              "    }\n",
              "\n",
              "    .dataframe tbody tr th {\n",
              "        vertical-align: top;\n",
              "    }\n",
              "\n",
              "    .dataframe thead th {\n",
              "        text-align: right;\n",
              "    }\n",
              "</style>\n",
              "<table border=\"1\" class=\"dataframe\">\n",
              "  <thead>\n",
              "    <tr style=\"text-align: right;\">\n",
              "      <th></th>\n",
              "      <th>userId</th>\n",
              "      <th>productId</th>\n",
              "      <th>rating</th>\n",
              "    </tr>\n",
              "  </thead>\n",
              "  <tbody>\n",
              "    <tr>\n",
              "      <th>294702</th>\n",
              "      <td>A239MFM40GO85W</td>\n",
              "      <td>B000E991PC</td>\n",
              "      <td>5.0</td>\n",
              "    </tr>\n",
              "    <tr>\n",
              "      <th>256856</th>\n",
              "      <td>A2V8TXWEV92R94</td>\n",
              "      <td>B0009VXBAQ</td>\n",
              "      <td>5.0</td>\n",
              "    </tr>\n",
              "    <tr>\n",
              "      <th>576065</th>\n",
              "      <td>A25BJ6ZTGRNR3L</td>\n",
              "      <td>B001P2M532</td>\n",
              "      <td>5.0</td>\n",
              "    </tr>\n",
              "    <tr>\n",
              "      <th>256826</th>\n",
              "      <td>A2HV7RYD2T30DD</td>\n",
              "      <td>B0009VXBAQ</td>\n",
              "      <td>5.0</td>\n",
              "    </tr>\n",
              "    <tr>\n",
              "      <th>256839</th>\n",
              "      <td>A330K1NZBFVCO2</td>\n",
              "      <td>B0009VXBAQ</td>\n",
              "      <td>5.0</td>\n",
              "    </tr>\n",
              "  </tbody>\n",
              "</table>\n",
              "</div>\n",
              "      <button class=\"colab-df-convert\" onclick=\"convertToInteractive('df-d17747c4-0d96-4363-ab31-c2b901ba11b5')\"\n",
              "              title=\"Convert this dataframe to an interactive table.\"\n",
              "              style=\"display:none;\">\n",
              "        \n",
              "  <svg xmlns=\"http://www.w3.org/2000/svg\" height=\"24px\"viewBox=\"0 0 24 24\"\n",
              "       width=\"24px\">\n",
              "    <path d=\"M0 0h24v24H0V0z\" fill=\"none\"/>\n",
              "    <path d=\"M18.56 5.44l.94 2.06.94-2.06 2.06-.94-2.06-.94-.94-2.06-.94 2.06-2.06.94zm-11 1L8.5 8.5l.94-2.06 2.06-.94-2.06-.94L8.5 2.5l-.94 2.06-2.06.94zm10 10l.94 2.06.94-2.06 2.06-.94-2.06-.94-.94-2.06-.94 2.06-2.06.94z\"/><path d=\"M17.41 7.96l-1.37-1.37c-.4-.4-.92-.59-1.43-.59-.52 0-1.04.2-1.43.59L10.3 9.45l-7.72 7.72c-.78.78-.78 2.05 0 2.83L4 21.41c.39.39.9.59 1.41.59.51 0 1.02-.2 1.41-.59l7.78-7.78 2.81-2.81c.8-.78.8-2.07 0-2.86zM5.41 20L4 18.59l7.72-7.72 1.47 1.35L5.41 20z\"/>\n",
              "  </svg>\n",
              "      </button>\n",
              "      \n",
              "  <style>\n",
              "    .colab-df-container {\n",
              "      display:flex;\n",
              "      flex-wrap:wrap;\n",
              "      gap: 12px;\n",
              "    }\n",
              "\n",
              "    .colab-df-convert {\n",
              "      background-color: #E8F0FE;\n",
              "      border: none;\n",
              "      border-radius: 50%;\n",
              "      cursor: pointer;\n",
              "      display: none;\n",
              "      fill: #1967D2;\n",
              "      height: 32px;\n",
              "      padding: 0 0 0 0;\n",
              "      width: 32px;\n",
              "    }\n",
              "\n",
              "    .colab-df-convert:hover {\n",
              "      background-color: #E2EBFA;\n",
              "      box-shadow: 0px 1px 2px rgba(60, 64, 67, 0.3), 0px 1px 3px 1px rgba(60, 64, 67, 0.15);\n",
              "      fill: #174EA6;\n",
              "    }\n",
              "\n",
              "    [theme=dark] .colab-df-convert {\n",
              "      background-color: #3B4455;\n",
              "      fill: #D2E3FC;\n",
              "    }\n",
              "\n",
              "    [theme=dark] .colab-df-convert:hover {\n",
              "      background-color: #434B5C;\n",
              "      box-shadow: 0px 1px 3px 1px rgba(0, 0, 0, 0.15);\n",
              "      filter: drop-shadow(0px 1px 2px rgba(0, 0, 0, 0.3));\n",
              "      fill: #FFFFFF;\n",
              "    }\n",
              "  </style>\n",
              "\n",
              "      <script>\n",
              "        const buttonEl =\n",
              "          document.querySelector('#df-d17747c4-0d96-4363-ab31-c2b901ba11b5 button.colab-df-convert');\n",
              "        buttonEl.style.display =\n",
              "          google.colab.kernel.accessAllowed ? 'block' : 'none';\n",
              "\n",
              "        async function convertToInteractive(key) {\n",
              "          const element = document.querySelector('#df-d17747c4-0d96-4363-ab31-c2b901ba11b5');\n",
              "          const dataTable =\n",
              "            await google.colab.kernel.invokeFunction('convertToInteractive',\n",
              "                                                     [key], {});\n",
              "          if (!dataTable) return;\n",
              "\n",
              "          const docLinkHtml = 'Like what you see? Visit the ' +\n",
              "            '<a target=\"_blank\" href=https://colab.research.google.com/notebooks/data_table.ipynb>data table notebook</a>'\n",
              "            + ' to learn more about interactive tables.';\n",
              "          element.innerHTML = '';\n",
              "          dataTable['output_type'] = 'display_data';\n",
              "          await google.colab.output.renderOutput(dataTable, element);\n",
              "          const docLink = document.createElement('div');\n",
              "          docLink.innerHTML = docLinkHtml;\n",
              "          element.appendChild(docLink);\n",
              "        }\n",
              "      </script>\n",
              "    </div>\n",
              "  </div>\n",
              "  "
            ],
            "text/plain": [
              "                userId   productId  rating\n",
              "294702  A239MFM40GO85W  B000E991PC     5.0\n",
              "256856  A2V8TXWEV92R94  B0009VXBAQ     5.0\n",
              "576065  A25BJ6ZTGRNR3L  B001P2M532     5.0\n",
              "256826  A2HV7RYD2T30DD  B0009VXBAQ     5.0\n",
              "256839  A330K1NZBFVCO2  B0009VXBAQ     5.0"
            ]
          },
          "metadata": {},
          "execution_count": 32
        }
      ]
    },
    {
      "cell_type": "code",
      "source": [
        "topuser_ratings_df.shape"
      ],
      "metadata": {
        "id": "NFlFlU5W6qTT",
        "colab": {
          "base_uri": "https://localhost:8080/"
        },
        "outputId": "f089da97-2c10-490d-bf17-b565b3102287"
      },
      "execution_count": 33,
      "outputs": [
        {
          "output_type": "execute_result",
          "data": {
            "text/plain": [
              "(80305, 3)"
            ]
          },
          "metadata": {},
          "execution_count": 33
        }
      ]
    },
    {
      "cell_type": "markdown",
      "source": [
        "Lấy những Sản phẩm có 15 ratings trở lên "
      ],
      "metadata": {
        "id": "XMEwUh0L6e1k"
      }
    },
    {
      "cell_type": "code",
      "source": [
        "# lấy  những sản phẩm có 15 ratings trở lên \n",
        "prodID = ratings.groupby('productId').count()"
      ],
      "metadata": {
        "id": "8WJbCeUB3kJR"
      },
      "execution_count": 34,
      "outputs": []
    },
    {
      "cell_type": "code",
      "source": [
        "top_prod = prodID[prodID['rating'] >= 15].index"
      ],
      "metadata": {
        "id": "pEpaV6Fu3kLC"
      },
      "execution_count": 35,
      "outputs": []
    },
    {
      "cell_type": "code",
      "source": [
        "top_ratings_df = topuser_ratings_df[topuser_ratings_df['productId'].isin(top_prod)]"
      ],
      "metadata": {
        "id": "wjhwuiUT3kNJ"
      },
      "execution_count": 36,
      "outputs": []
    },
    {
      "cell_type": "code",
      "source": [
        "top_ratings_df.sort_values(by='rating', ascending=False).head()"
      ],
      "metadata": {
        "id": "ZvhBXj_W3kPY",
        "colab": {
          "base_uri": "https://localhost:8080/",
          "height": 0
        },
        "outputId": "245b6e41-d552-450f-b629-3a76e31c0b8a"
      },
      "execution_count": 37,
      "outputs": [
        {
          "output_type": "execute_result",
          "data": {
            "text/html": [
              "\n",
              "  <div id=\"df-cb1ae195-72e4-4bbf-99a6-49289fa7e395\">\n",
              "    <div class=\"colab-df-container\">\n",
              "      <div>\n",
              "<style scoped>\n",
              "    .dataframe tbody tr th:only-of-type {\n",
              "        vertical-align: middle;\n",
              "    }\n",
              "\n",
              "    .dataframe tbody tr th {\n",
              "        vertical-align: top;\n",
              "    }\n",
              "\n",
              "    .dataframe thead th {\n",
              "        text-align: right;\n",
              "    }\n",
              "</style>\n",
              "<table border=\"1\" class=\"dataframe\">\n",
              "  <thead>\n",
              "    <tr style=\"text-align: right;\">\n",
              "      <th></th>\n",
              "      <th>userId</th>\n",
              "      <th>productId</th>\n",
              "      <th>rating</th>\n",
              "    </tr>\n",
              "  </thead>\n",
              "  <tbody>\n",
              "    <tr>\n",
              "      <th>1324455</th>\n",
              "      <td>A2IGEPJJYKMOWK</td>\n",
              "      <td>B00KAI3KW2</td>\n",
              "      <td>5.0</td>\n",
              "    </tr>\n",
              "    <tr>\n",
              "      <th>313707</th>\n",
              "      <td>A3ACFBM9NWUQMG</td>\n",
              "      <td>B000FOQE24</td>\n",
              "      <td>5.0</td>\n",
              "    </tr>\n",
              "    <tr>\n",
              "      <th>777001</th>\n",
              "      <td>A3DWI49RAMSADS</td>\n",
              "      <td>B003O6E800</td>\n",
              "      <td>5.0</td>\n",
              "    </tr>\n",
              "    <tr>\n",
              "      <th>777009</th>\n",
              "      <td>A29X45MA3LZK25</td>\n",
              "      <td>B003O6E800</td>\n",
              "      <td>5.0</td>\n",
              "    </tr>\n",
              "    <tr>\n",
              "      <th>313930</th>\n",
              "      <td>A1H4NFXAJQRQ2K</td>\n",
              "      <td>B000FPM3HS</td>\n",
              "      <td>5.0</td>\n",
              "    </tr>\n",
              "  </tbody>\n",
              "</table>\n",
              "</div>\n",
              "      <button class=\"colab-df-convert\" onclick=\"convertToInteractive('df-cb1ae195-72e4-4bbf-99a6-49289fa7e395')\"\n",
              "              title=\"Convert this dataframe to an interactive table.\"\n",
              "              style=\"display:none;\">\n",
              "        \n",
              "  <svg xmlns=\"http://www.w3.org/2000/svg\" height=\"24px\"viewBox=\"0 0 24 24\"\n",
              "       width=\"24px\">\n",
              "    <path d=\"M0 0h24v24H0V0z\" fill=\"none\"/>\n",
              "    <path d=\"M18.56 5.44l.94 2.06.94-2.06 2.06-.94-2.06-.94-.94-2.06-.94 2.06-2.06.94zm-11 1L8.5 8.5l.94-2.06 2.06-.94-2.06-.94L8.5 2.5l-.94 2.06-2.06.94zm10 10l.94 2.06.94-2.06 2.06-.94-2.06-.94-.94-2.06-.94 2.06-2.06.94z\"/><path d=\"M17.41 7.96l-1.37-1.37c-.4-.4-.92-.59-1.43-.59-.52 0-1.04.2-1.43.59L10.3 9.45l-7.72 7.72c-.78.78-.78 2.05 0 2.83L4 21.41c.39.39.9.59 1.41.59.51 0 1.02-.2 1.41-.59l7.78-7.78 2.81-2.81c.8-.78.8-2.07 0-2.86zM5.41 20L4 18.59l7.72-7.72 1.47 1.35L5.41 20z\"/>\n",
              "  </svg>\n",
              "      </button>\n",
              "      \n",
              "  <style>\n",
              "    .colab-df-container {\n",
              "      display:flex;\n",
              "      flex-wrap:wrap;\n",
              "      gap: 12px;\n",
              "    }\n",
              "\n",
              "    .colab-df-convert {\n",
              "      background-color: #E8F0FE;\n",
              "      border: none;\n",
              "      border-radius: 50%;\n",
              "      cursor: pointer;\n",
              "      display: none;\n",
              "      fill: #1967D2;\n",
              "      height: 32px;\n",
              "      padding: 0 0 0 0;\n",
              "      width: 32px;\n",
              "    }\n",
              "\n",
              "    .colab-df-convert:hover {\n",
              "      background-color: #E2EBFA;\n",
              "      box-shadow: 0px 1px 2px rgba(60, 64, 67, 0.3), 0px 1px 3px 1px rgba(60, 64, 67, 0.15);\n",
              "      fill: #174EA6;\n",
              "    }\n",
              "\n",
              "    [theme=dark] .colab-df-convert {\n",
              "      background-color: #3B4455;\n",
              "      fill: #D2E3FC;\n",
              "    }\n",
              "\n",
              "    [theme=dark] .colab-df-convert:hover {\n",
              "      background-color: #434B5C;\n",
              "      box-shadow: 0px 1px 3px 1px rgba(0, 0, 0, 0.15);\n",
              "      filter: drop-shadow(0px 1px 2px rgba(0, 0, 0, 0.3));\n",
              "      fill: #FFFFFF;\n",
              "    }\n",
              "  </style>\n",
              "\n",
              "      <script>\n",
              "        const buttonEl =\n",
              "          document.querySelector('#df-cb1ae195-72e4-4bbf-99a6-49289fa7e395 button.colab-df-convert');\n",
              "        buttonEl.style.display =\n",
              "          google.colab.kernel.accessAllowed ? 'block' : 'none';\n",
              "\n",
              "        async function convertToInteractive(key) {\n",
              "          const element = document.querySelector('#df-cb1ae195-72e4-4bbf-99a6-49289fa7e395');\n",
              "          const dataTable =\n",
              "            await google.colab.kernel.invokeFunction('convertToInteractive',\n",
              "                                                     [key], {});\n",
              "          if (!dataTable) return;\n",
              "\n",
              "          const docLinkHtml = 'Like what you see? Visit the ' +\n",
              "            '<a target=\"_blank\" href=https://colab.research.google.com/notebooks/data_table.ipynb>data table notebook</a>'\n",
              "            + ' to learn more about interactive tables.';\n",
              "          element.innerHTML = '';\n",
              "          dataTable['output_type'] = 'display_data';\n",
              "          await google.colab.output.renderOutput(dataTable, element);\n",
              "          const docLink = document.createElement('div');\n",
              "          docLink.innerHTML = docLinkHtml;\n",
              "          element.appendChild(docLink);\n",
              "        }\n",
              "      </script>\n",
              "    </div>\n",
              "  </div>\n",
              "  "
            ],
            "text/plain": [
              "                 userId   productId  rating\n",
              "1324455  A2IGEPJJYKMOWK  B00KAI3KW2     5.0\n",
              "313707   A3ACFBM9NWUQMG  B000FOQE24     5.0\n",
              "777001   A3DWI49RAMSADS  B003O6E800     5.0\n",
              "777009   A29X45MA3LZK25  B003O6E800     5.0\n",
              "313930   A1H4NFXAJQRQ2K  B000FPM3HS     5.0"
            ]
          },
          "metadata": {},
          "execution_count": 37
        }
      ]
    },
    {
      "cell_type": "code",
      "source": [
        "top_ratings_df.shape"
      ],
      "metadata": {
        "id": "PnIy1crN4xQP",
        "colab": {
          "base_uri": "https://localhost:8080/"
        },
        "outputId": "089e2201-1e23-4ed6-f85d-7d1791e700d7"
      },
      "execution_count": 38,
      "outputs": [
        {
          "output_type": "execute_result",
          "data": {
            "text/plain": [
              "(67255, 3)"
            ]
          },
          "metadata": {},
          "execution_count": 38
        }
      ]
    },
    {
      "cell_type": "code",
      "source": [
        "top_ratings_df.userId.nunique(), top_ratings_df.productId.nunique()\n"
      ],
      "metadata": {
        "colab": {
          "base_uri": "https://localhost:8080/"
        },
        "id": "68pY1dymSvaZ",
        "outputId": "25e67f0b-36b5-4c15-f35c-8cec5c1028c8"
      },
      "execution_count": 39,
      "outputs": [
        {
          "output_type": "execute_result",
          "data": {
            "text/plain": [
              "(2060, 10913)"
            ]
          },
          "metadata": {},
          "execution_count": 39
        }
      ]
    },
    {
      "cell_type": "markdown",
      "source": [
        "Chia train/test 60/40"
      ],
      "metadata": {
        "id": "qxlwBU4p6mjo"
      }
    },
    {
      "cell_type": "code",
      "source": [
        "from sklearn.model_selection import train_test_split\n",
        "train_data, test_data = train_test_split(top_ratings_df, test_size = 0.40, random_state=0)"
      ],
      "metadata": {
        "id": "k0P49fDMva1R"
      },
      "execution_count": 40,
      "outputs": []
    },
    {
      "cell_type": "code",
      "source": [
        "reader = Reader(rating_scale=(1, 5))"
      ],
      "metadata": {
        "id": "C-SIJbiU9Zad"
      },
      "execution_count": 41,
      "outputs": []
    },
    {
      "cell_type": "code",
      "source": [
        "data= Dataset.load_from_df(top_ratings_df[['userId', 'productId', 'rating']],reader)"
      ],
      "metadata": {
        "id": "T-mveZpk9Zla"
      },
      "execution_count": 42,
      "outputs": []
    },
    {
      "cell_type": "code",
      "source": [
        "# Split data to train and test\n",
        "from surprise.model_selection import train_test_split"
      ],
      "metadata": {
        "id": "QSOGHlPp94xz"
      },
      "execution_count": 43,
      "outputs": []
    },
    {
      "cell_type": "code",
      "source": [
        "trainset, testset = train_test_split(data, test_size = 0.40, random_state=0)"
      ],
      "metadata": {
        "id": "IQP9r1lb6dok"
      },
      "execution_count": 44,
      "outputs": []
    },
    {
      "cell_type": "code",
      "source": [
        "train_data.userId.nunique(),  train_data.productId.nunique()\n",
        "\n"
      ],
      "metadata": {
        "colab": {
          "base_uri": "https://localhost:8080/"
        },
        "id": "JUdSvPgoBT2z",
        "outputId": "1f7bba59-376c-4ea9-b369-f44812aa7aa8"
      },
      "execution_count": 45,
      "outputs": [
        {
          "output_type": "execute_result",
          "data": {
            "text/plain": [
              "(2059, 9509)"
            ]
          },
          "metadata": {},
          "execution_count": 45
        }
      ]
    },
    {
      "cell_type": "code",
      "source": [
        "test_data.userId.nunique(), test_data.productId.nunique()"
      ],
      "metadata": {
        "colab": {
          "base_uri": "https://localhost:8080/"
        },
        "id": "DdDl4Pp0BT62",
        "outputId": "578e4c11-093f-4588-bee5-bec4e693a99e"
      },
      "execution_count": 46,
      "outputs": [
        {
          "output_type": "execute_result",
          "data": {
            "text/plain": [
              "(2055, 8154)"
            ]
          },
          "metadata": {},
          "execution_count": 46
        }
      ]
    },
    {
      "cell_type": "markdown",
      "source": [
        "# BUILD"
      ],
      "metadata": {
        "id": "XmHDJr0xoYeM"
      }
    },
    {
      "cell_type": "code",
      "source": [
        "def merge_rating_true_pred(\n",
        "    rating_true,\n",
        "    rating_pred,\n",
        "    col_user='userId',\n",
        "    col_item='productId',\n",
        "    col_rating='rating',\n",
        "    col_prediction='prediction',\n",
        "):\n",
        "    \"\"\"Join truth and prediction data frames on userID and itemID and return the true\n",
        "    and predicted rated with the correct index.\n",
        "    Args:\n",
        "        rating_true (pandas.DataFrame): True data\n",
        "        rating_pred (pandas.DataFrame): Predicted data\n",
        "        col_user (str): column name for user\n",
        "        col_item (str): column name for item\n",
        "        col_rating (str): column name for rating\n",
        "        col_prediction (str): column name for prediction\n",
        "    Returns:\n",
        "        numpy.ndarray: Array with the true ratings\n",
        "        numpy.ndarray: Array with the predicted ratings\n",
        "    \"\"\"\n",
        "    suffixes = [\"_true\", \"_pred\"]\n",
        "    rating_true_pred = pd.merge(\n",
        "        rating_true, rating_pred, on=[col_user, col_item], suffixes=suffixes\n",
        "    )\n",
        "    if col_rating in rating_pred.columns:\n",
        "        col_rating = col_rating + suffixes[0]\n",
        "    if col_prediction in rating_true.columns:\n",
        "        col_prediction = col_prediction + suffixes[1]\n",
        "    return rating_true_pred[col_rating], rating_true_pred[col_prediction]"
      ],
      "metadata": {
        "id": "lauAWBAHDbaG"
      },
      "execution_count": 60,
      "outputs": []
    },
    {
      "cell_type": "code",
      "source": [
        "def mae(\n",
        "    rating_true,\n",
        "    rating_pred,\n",
        "    col_user='userId',\n",
        "    col_item='productId',\n",
        "    col_rating='rating',\n",
        "    col_prediction='prediction',\n",
        "):\n",
        "    \"\"\"Calculate Mean Absolute Error.\n",
        "    Args:\n",
        "        rating_true (pandas.DataFrame): True data. There should be no duplicate (userID, itemID) pairs\n",
        "        rating_pred (pandas.DataFrame): Predicted data. There should be no duplicate (userID, itemID) pairs\n",
        "        col_user (str): column name for user\n",
        "        col_item (str): column name for item\n",
        "        col_rating (str): column name for rating\n",
        "        col_prediction (str): column name for prediction\n",
        "    Returns:\n",
        "        float: Mean Absolute Error.\n",
        "    \"\"\"\n",
        "\n",
        "    y_true, y_pred = merge_rating_true_pred(\n",
        "        rating_true=rating_true,\n",
        "        rating_pred=rating_pred,\n",
        "        col_user=col_user,\n",
        "        col_item=col_item,\n",
        "        col_rating=col_rating,\n",
        "        col_prediction=col_prediction,\n",
        "    )\n",
        "    return mean_absolute_error(y_true, y_pred)"
      ],
      "metadata": {
        "id": "OwFT64SpQmGI"
      },
      "execution_count": 61,
      "outputs": []
    },
    {
      "cell_type": "code",
      "source": [
        "def compute_ranking_predictions(algo,data,usercol='userId',itemcol='productId',predcol='prediction',remove_seen=False,):\n",
        "    preds_lst = []\n",
        "    users = data[usercol].unique()\n",
        "    items = data[itemcol].unique()\n",
        "\n",
        "    for user in users:\n",
        "        for item in items:\n",
        "            preds_lst.append([user, item, algo.predict(user, item).est])\n",
        "\n",
        "    all_predictions = pd.DataFrame(data=preds_lst, columns=[usercol, itemcol, predcol])\n",
        "\n",
        "    if remove_seen:\n",
        "        tempdf = pd.concat(\n",
        "            [\n",
        "                data[[usercol, itemcol]],\n",
        "                pd.DataFrame(\n",
        "                    data=np.ones(data.shape[0]), columns=[\"dummycol\"], index=data.index\n",
        "                ),\n",
        "            ],\n",
        "            axis=1,\n",
        "        )\n",
        "        merged = pd.merge(tempdf, all_predictions, on=[usercol, itemcol], how=\"outer\")\n",
        "        return merged[merged[\"dummycol\"].isnull()].drop(\"dummycol\", axis=1)\n",
        "    else:\n",
        "        return all_predictions"
      ],
      "metadata": {
        "id": "GAI-hreXDbfQ"
      },
      "execution_count": 62,
      "outputs": []
    },
    {
      "cell_type": "code",
      "source": [
        "def predict(\n",
        "    algo,\n",
        "    data,\n",
        "    usercol='userId',\n",
        "    itemcol='productId',\n",
        "    ratingcol = 'rating',\n",
        "    predcol='prediction',\n",
        "):\n",
        "    predictions = [\n",
        "        algo.predict(getattr(row, usercol), getattr(row, itemcol),getattr(row, ratingcol))\n",
        "        for row in data.itertuples()\n",
        "    ]\n",
        "    predictions = pd.DataFrame(predictions)\n",
        "    predictions = predictions.rename(\n",
        "        index=str, columns={\"uid\": usercol, \"iid\": itemcol, \"est\": predcol, 'r_uid': ratingcol}\n",
        "    )\n",
        "    return predictions.drop([\"details\"], axis=\"columns\")"
      ],
      "metadata": {
        "id": "xwxzF73N7s1W"
      },
      "execution_count": 63,
      "outputs": []
    },
    {
      "cell_type": "code",
      "source": [
        "def rmse(\n",
        "    rating_true,\n",
        "    rating_pred,\n",
        "    col_user='userId',\n",
        "    col_item='productId',\n",
        "    col_rating='rating',\n",
        "    col_prediction='prediction',\n",
        "):\n",
        "    \"\"\"Calculate Root Mean Squared Error\n",
        "    Args:\n",
        "        rating_true (pandas.DataFrame): True data. There should be no duplicate (userID, itemID) pairs\n",
        "        rating_pred (pandas.DataFrame): Predicted data. There should be no duplicate (userID, itemID) pairs\n",
        "        col_user (str): column name for user\n",
        "        col_item (str): column name for item\n",
        "        col_rating (str): column name for rating\n",
        "        col_prediction (str): column name for prediction\n",
        "    Returns:\n",
        "        float: Root mean squared error\n",
        "    \"\"\"\n",
        "\n",
        "    y_true, y_pred = merge_rating_true_pred(\n",
        "        rating_true=rating_true,\n",
        "        rating_pred=rating_pred,\n",
        "        col_user=col_user,\n",
        "        col_item=col_item,\n",
        "        col_rating=col_rating,\n",
        "        col_prediction=col_prediction,\n",
        "    )\n",
        "    return np.sqrt(mean_squared_error(y_true, y_pred))"
      ],
      "metadata": {
        "id": "IyfoEtATDbW5"
      },
      "execution_count": 64,
      "outputs": []
    },
    {
      "cell_type": "code",
      "source": [
        "def get_top_k_items(\n",
        "    dataframe, col_user='userId', col_rating='rating', k=5\n",
        "):\n",
        "    \"\"\"Get the input customer-item-rating tuple in the format of Pandas\n",
        "    DataFrame, output a Pandas DataFrame in the dense format of top k items\n",
        "    for each user.\n",
        "    Note:\n",
        "        If it is implicit rating, just append a column of constants to be\n",
        "        ratings.\n",
        "    Args:\n",
        "        dataframe (pandas.DataFrame): DataFrame of rating data (in the format\n",
        "        customerID-itemID-rating)\n",
        "        col_user (str): column name for user\n",
        "        col_rating (str): column name for rating\n",
        "        k (int or None): number of items for each user; None means that the input has already been\n",
        "        filtered out top k items and sorted by ratings and there is no need to do that again.\n",
        "    Returns:\n",
        "        pandas.DataFrame: DataFrame of top k items for each user, sorted by `col_user` and `rank`\n",
        "    \"\"\"\n",
        "    # Sort dataframe by col_user and (top k) col_rating\n",
        "    if k is None:\n",
        "        top_k_items = dataframe\n",
        "    else:\n",
        "        top_k_items = (\n",
        "            dataframe.groupby(col_user, as_index=False)\n",
        "            .apply(lambda x: x.nlargest(k, col_rating))\n",
        "            .reset_index(drop=True)\n",
        "        )\n",
        "    # Add ranks\n",
        "    top_k_items[\"rank\"] = top_k_items.groupby(col_user, sort=False).cumcount() + 1\n",
        "    return top_k_items"
      ],
      "metadata": {
        "id": "vpIZ3xiBvgOY"
      },
      "execution_count": 65,
      "outputs": []
    },
    {
      "cell_type": "code",
      "source": [
        "def ndcg_at_k(\n",
        "    rating_true,\n",
        "    rating_pred,\n",
        "    col_user='userId',\n",
        "    col_item='productId',\n",
        "    col_rating='rating',\n",
        "    col_prediction='prediction',\n",
        "    relevancy_method=\"top_k\",\n",
        "    k=5,\n",
        "    threshold=5\n",
        "):\n",
        "    \"\"\"Normalized Discounted Cumulative Gain (nDCG).\n",
        "    Info: https://en.wikipedia.org/wiki/Discounted_cumulative_gain\n",
        "    Args:\n",
        "        rating_true (pandas.DataFrame): True DataFrame\n",
        "        rating_pred (pandas.DataFrame): Predicted DataFrame\n",
        "        col_user (str): column name for user\n",
        "        col_item (str): column name for item\n",
        "        col_rating (str): column name for rating\n",
        "        col_prediction (str): column name for prediction\n",
        "        relevancy_method (str): method for determining relevancy ['top_k', 'by_threshold', None]. None means that the\n",
        "            top k items are directly provided, so there is no need to compute the relevancy operation.\n",
        "        k (int): number of top k items per user\n",
        "        threshold (float): threshold of top items per user (optional)\n",
        "    Returns:\n",
        "        float: nDCG at k (min=0, max=1).\n",
        "    \"\"\"\n",
        "\n",
        "    df_hit, df_hit_count, n_users = merge_ranking_true_pred(\n",
        "        rating_true=rating_true,\n",
        "        rating_pred=rating_pred,\n",
        "        col_user=col_user,\n",
        "        col_item=col_item,\n",
        "        col_rating=col_rating,\n",
        "        col_prediction=col_prediction,\n",
        "        relevancy_method=relevancy_method,\n",
        "        k=k,\n",
        "        threshold=threshold,\n",
        "    )\n",
        "\n",
        "    if df_hit.shape[0] == 0:\n",
        "        return 0.0\n",
        "\n",
        "    # calculate discounted gain for hit items\n",
        "    df_dcg = df_hit.copy()\n",
        "    # relevance in this case is always 1\n",
        "    df_dcg[\"dcg\"] = 1 / np.log1p(df_dcg[\"rank\"])\n",
        "    # sum up discount gained to get discount cumulative gain\n",
        "    df_dcg = df_dcg.groupby(col_user, as_index=False, sort=False).agg({\"dcg\": \"sum\"})\n",
        "    # calculate ideal discounted cumulative gain\n",
        "    df_ndcg = pd.merge(df_dcg, df_hit_count, on=[col_user])\n",
        "    df_ndcg[\"idcg\"] = df_ndcg[\"actual\"].apply(\n",
        "        lambda x: sum(1 / np.log1p(range(1, min(x, k) + 1)))\n",
        "    )\n",
        "\n",
        "    # DCG over IDCG is the normalized DCG\n",
        "    return (df_ndcg[\"dcg\"] / df_ndcg[\"idcg\"]).sum() / n_users"
      ],
      "metadata": {
        "id": "BJa5MiHhP3Yp"
      },
      "execution_count": 66,
      "outputs": []
    },
    {
      "cell_type": "code",
      "source": [
        "def merge_ranking_true_pred(\n",
        "    rating_true,\n",
        "    rating_pred,\n",
        "    col_user,\n",
        "    col_item,\n",
        "    col_rating,\n",
        "    col_prediction,\n",
        "    relevancy_method,\n",
        "    k=5,\n",
        "    threshold=5,\n",
        "):\n",
        "    \"\"\"Filter truth and prediction data frames on common users\n",
        "    Args:\n",
        "        rating_true (pandas.DataFrame): True DataFrame\n",
        "        rating_pred (pandas.DataFrame): Predicted DataFrame\n",
        "        col_user (str): column name for user\n",
        "        col_item (str): column name for item\n",
        "        col_rating (str): column name for rating\n",
        "        col_prediction (str): column name for prediction\n",
        "        relevancy_method (str): method for determining relevancy ['top_k', 'by_threshold', None]. None means that the\n",
        "            top k items are directly provided, so there is no need to compute the relevancy operation.\n",
        "        k (int): number of top k items per user (optional)\n",
        "        threshold (float): threshold of top items per user (optional)\n",
        "    Returns:\n",
        "        pandas.DataFrame, pandas.DataFrame, int: DataFrame of recommendation hits, sorted by `col_user` and `rank`\n",
        "        DataFrame of hit counts vs actual relevant items per user number of unique user ids\n",
        "    \"\"\"\n",
        "\n",
        "    # Make sure the prediction and true data frames have the same set of users\n",
        "    common_users = set(rating_true[col_user]).intersection(set(rating_pred[col_user]))\n",
        "    rating_true_common = rating_true[rating_true[col_user].isin(common_users)]\n",
        "    rating_pred_common = rating_pred[rating_pred[col_user].isin(common_users)]\n",
        "    n_users = len(common_users)\n",
        "\n",
        "    # Return hit items in prediction data frame with ranking information. This is used for calculating NDCG and MAP.\n",
        "    # Use first to generate unique ranking values for each item. This is to align with the implementation in\n",
        "    # Spark evaluation metrics, where index of each recommended items (the indices are unique to items) is used\n",
        "    # to calculate penalized precision of the ordered items.\n",
        "    if relevancy_method == \"top_k\":\n",
        "        top_k = k\n",
        "    elif relevancy_method == \"by_threshold\":\n",
        "        top_k = threshold\n",
        "    elif relevancy_method is None:\n",
        "        top_k = None\n",
        "    else:\n",
        "        raise NotImplementedError(\"Invalid relevancy_method\")\n",
        "    df_hit = get_top_k_items(\n",
        "        dataframe=rating_pred_common,\n",
        "        col_user=col_user,\n",
        "        col_rating=col_prediction,\n",
        "        k=top_k,\n",
        "    )\n",
        "    df_hit = pd.merge(df_hit, rating_true_common, on=[col_user, col_item])[\n",
        "        [col_user, col_item, \"rank\"]\n",
        "    ]\n",
        "\n",
        "    # count the number of hits vs actual relevant items per user\n",
        "    df_hit_count = pd.merge(\n",
        "        df_hit.groupby(col_user, as_index=False)[col_user].agg({\"hit\": \"count\"}),\n",
        "        rating_true_common.groupby(col_user, as_index=False)[col_user].agg(\n",
        "            {\"actual\": \"count\"}\n",
        "        ),\n",
        "        on=col_user,\n",
        "    )\n",
        "\n",
        "    return df_hit, df_hit_count, n_users"
      ],
      "metadata": {
        "id": "geA1o1y9twvL"
      },
      "execution_count": 67,
      "outputs": []
    },
    {
      "cell_type": "code",
      "source": [
        "def precision_at_k(\n",
        "    rating_true,\n",
        "    rating_pred,\n",
        "    col_user='userId',\n",
        "    col_item='productId',\n",
        "    col_rating='rating',\n",
        "    col_prediction='prediction',\n",
        "    relevancy_method=\"top_k\",\n",
        "    k=5,\n",
        "    threshold=5,\n",
        "):\n",
        "    \"\"\"Precision at K.\n",
        "    Note:\n",
        "        We use the same formula to calculate precision@k as that in Spark.\n",
        "        More details can be found at\n",
        "        http://spark.apache.org/docs/2.1.1/api/python/pyspark.mllib.html#pyspark.mllib.evaluation.RankingMetrics.precisionAt\n",
        "        In particular, the maximum achievable precision may be < 1, if the number of items for a\n",
        "        user in rating_pred is less than k.\n",
        "    Args:\n",
        "        rating_true (pandas.DataFrame): True DataFrame\n",
        "        rating_pred (pandas.DataFrame): Predicted DataFrame\n",
        "        col_user (str): column name for user\n",
        "        col_item (str): column name for item\n",
        "        col_rating (str): column name for rating\n",
        "        col_prediction (str): column name for prediction\n",
        "        relevancy_method (str): method for determining relevancy ['top_k', 'by_threshold', None]. None means that the\n",
        "            top k items are directly provided, so there is no need to compute the relevancy operation.\n",
        "        k (int): number of top k items per user\n",
        "        threshold (float): threshold of top items per user (optional)\n",
        "    Returns:\n",
        "        float: precision at k (min=0, max=1)\n",
        "    \"\"\"\n",
        "\n",
        "    df_hit, df_hit_count, n_users = merge_ranking_true_pred(\n",
        "        rating_true=rating_true,\n",
        "        rating_pred=rating_pred,\n",
        "        col_user=col_user,\n",
        "        col_item=col_item,\n",
        "        col_rating=col_rating,\n",
        "        col_prediction=col_prediction,\n",
        "        relevancy_method=relevancy_method,\n",
        "        k=k,\n",
        "        threshold=threshold,\n",
        "    )\n",
        "\n",
        "    if df_hit.shape[0] == 0:\n",
        "        return 0.0\n",
        "\n",
        "    return (df_hit_count[\"hit\"] / k).sum() / n_users\n",
        "\n",
        "\n",
        "def recall_at_k(\n",
        "    rating_true,\n",
        "    rating_pred,\n",
        "    col_user='userId',\n",
        "    col_item='productId',\n",
        "    col_rating='rating',\n",
        "    col_prediction='prediction',\n",
        "    relevancy_method=\"top_k\",\n",
        "    k=5,\n",
        "    threshold=5,\n",
        "):\n",
        "    \"\"\"Recall at K.\n",
        "    Args:\n",
        "        rating_true (pandas.DataFrame): True DataFrame\n",
        "        rating_pred (pandas.DataFrame): Predicted DataFrame\n",
        "        col_user (str): column name for user\n",
        "        col_item (str): column name for item\n",
        "        col_rating (str): column name for rating\n",
        "        col_prediction (str): column name for prediction\n",
        "        relevancy_method (str): method for determining relevancy ['top_k', 'by_threshold', None]. None means that the\n",
        "            top k items are directly provided, so there is no need to compute the relevancy operation.\n",
        "        k (int): number of top k items per user\n",
        "        threshold (float): threshold of top items per user (optional)\n",
        "    Returns:\n",
        "        float: recall at k (min=0, max=1). The maximum value is 1 even when fewer than\n",
        "        k items exist for a user in rating_true.\n",
        "    \"\"\"\n",
        "\n",
        "    df_hit, df_hit_count, n_users = merge_ranking_true_pred(\n",
        "        rating_true=rating_true,\n",
        "        rating_pred=rating_pred,\n",
        "        col_user=col_user,\n",
        "        col_item=col_item,\n",
        "        col_rating=col_rating,\n",
        "        col_prediction=col_prediction,\n",
        "        relevancy_method=relevancy_method,\n",
        "        k=k,\n",
        "        threshold=threshold,\n",
        "    )\n",
        "\n",
        "    if df_hit.shape[0] == 0:\n",
        "        return 0.0\n",
        "\n",
        "    return (df_hit_count[\"hit\"] / df_hit_count[\"actual\"]).sum() / n_users"
      ],
      "metadata": {
        "id": "XJPrOplOtBeD"
      },
      "execution_count": 68,
      "outputs": []
    },
    {
      "cell_type": "markdown",
      "source": [
        "# USER BASED collaborative-filtering"
      ],
      "metadata": {
        "id": "uPmmLnuWoo1_"
      }
    },
    {
      "cell_type": "markdown",
      "source": [
        "SVD"
      ],
      "metadata": {
        "id": "ioIuE9R9MbuE"
      }
    },
    {
      "cell_type": "code",
      "source": [
        "svd_model = SVD(n_factors=50,reg_all=0.02)\n",
        "svd_model.fit(trainset)"
      ],
      "metadata": {
        "id": "kRHpMpTC79Jy",
        "colab": {
          "base_uri": "https://localhost:8080/"
        },
        "outputId": "1b88bb29-9688-4ea2-a3f5-2c834d37d0d5"
      },
      "execution_count": 59,
      "outputs": [
        {
          "output_type": "execute_result",
          "data": {
            "text/plain": [
              "<surprise.prediction_algorithms.matrix_factorization.SVD at 0x7f66ce49ab10>"
            ]
          },
          "metadata": {},
          "execution_count": 59
        }
      ]
    },
    {
      "cell_type": "code",
      "source": [
        "prediction = predict(svd_model, test_data,usercol='userId',itemcol='productId')"
      ],
      "metadata": {
        "id": "RY-n0K_nUs03"
      },
      "execution_count": 69,
      "outputs": []
    },
    {
      "cell_type": "code",
      "source": [
        "prediction"
      ],
      "metadata": {
        "colab": {
          "base_uri": "https://localhost:8080/",
          "height": 424
        },
        "id": "z4Hq75E-Zjl3",
        "outputId": "60c4488c-42ed-4c90-fee4-9c0cb25a38fe"
      },
      "execution_count": 83,
      "outputs": [
        {
          "output_type": "execute_result",
          "data": {
            "text/html": [
              "\n",
              "  <div id=\"df-9a959df6-1b31-4a51-8aff-d97e2a19a77d\">\n",
              "    <div class=\"colab-df-container\">\n",
              "      <div>\n",
              "<style scoped>\n",
              "    .dataframe tbody tr th:only-of-type {\n",
              "        vertical-align: middle;\n",
              "    }\n",
              "\n",
              "    .dataframe tbody tr th {\n",
              "        vertical-align: top;\n",
              "    }\n",
              "\n",
              "    .dataframe thead th {\n",
              "        text-align: right;\n",
              "    }\n",
              "</style>\n",
              "<table border=\"1\" class=\"dataframe\">\n",
              "  <thead>\n",
              "    <tr style=\"text-align: right;\">\n",
              "      <th></th>\n",
              "      <th>userId</th>\n",
              "      <th>productId</th>\n",
              "      <th>r_ui</th>\n",
              "      <th>prediction</th>\n",
              "    </tr>\n",
              "  </thead>\n",
              "  <tbody>\n",
              "    <tr>\n",
              "      <th>0</th>\n",
              "      <td>A2QP26XNESJQEQ</td>\n",
              "      <td>B000099T2H</td>\n",
              "      <td>5.0</td>\n",
              "      <td>4.385170</td>\n",
              "    </tr>\n",
              "    <tr>\n",
              "      <th>1</th>\n",
              "      <td>A1YVM25R9R9ENG</td>\n",
              "      <td>B008FPMBNG</td>\n",
              "      <td>5.0</td>\n",
              "      <td>4.452700</td>\n",
              "    </tr>\n",
              "    <tr>\n",
              "      <th>2</th>\n",
              "      <td>A201HVK6NWJJER</td>\n",
              "      <td>B006JKARN0</td>\n",
              "      <td>4.0</td>\n",
              "      <td>4.323425</td>\n",
              "    </tr>\n",
              "    <tr>\n",
              "      <th>3</th>\n",
              "      <td>A3TJJYF5Y5593Z</td>\n",
              "      <td>B008XMSR6G</td>\n",
              "      <td>3.0</td>\n",
              "      <td>3.265389</td>\n",
              "    </tr>\n",
              "    <tr>\n",
              "      <th>4</th>\n",
              "      <td>A2QY0WD2JLWUKS</td>\n",
              "      <td>B0050SWS8O</td>\n",
              "      <td>3.0</td>\n",
              "      <td>3.700508</td>\n",
              "    </tr>\n",
              "    <tr>\n",
              "      <th>...</th>\n",
              "      <td>...</td>\n",
              "      <td>...</td>\n",
              "      <td>...</td>\n",
              "      <td>...</td>\n",
              "    </tr>\n",
              "    <tr>\n",
              "      <th>26897</th>\n",
              "      <td>A2KQG9LFXGI91R</td>\n",
              "      <td>B003BO2RNK</td>\n",
              "      <td>3.0</td>\n",
              "      <td>3.245372</td>\n",
              "    </tr>\n",
              "    <tr>\n",
              "      <th>26898</th>\n",
              "      <td>A169CJ2NJQYIM6</td>\n",
              "      <td>B000FRU0NU</td>\n",
              "      <td>4.0</td>\n",
              "      <td>3.690148</td>\n",
              "    </tr>\n",
              "    <tr>\n",
              "      <th>26899</th>\n",
              "      <td>A2PSC7LUNIDEAH</td>\n",
              "      <td>B001BDI9SU</td>\n",
              "      <td>5.0</td>\n",
              "      <td>4.657023</td>\n",
              "    </tr>\n",
              "    <tr>\n",
              "      <th>26900</th>\n",
              "      <td>A23DF9ROSHQ81I</td>\n",
              "      <td>B00002SV6G</td>\n",
              "      <td>4.0</td>\n",
              "      <td>3.754632</td>\n",
              "    </tr>\n",
              "    <tr>\n",
              "      <th>26901</th>\n",
              "      <td>A2JDP0AH6SDGUU</td>\n",
              "      <td>B000VTQ3LU</td>\n",
              "      <td>4.0</td>\n",
              "      <td>4.168564</td>\n",
              "    </tr>\n",
              "  </tbody>\n",
              "</table>\n",
              "<p>26902 rows × 4 columns</p>\n",
              "</div>\n",
              "      <button class=\"colab-df-convert\" onclick=\"convertToInteractive('df-9a959df6-1b31-4a51-8aff-d97e2a19a77d')\"\n",
              "              title=\"Convert this dataframe to an interactive table.\"\n",
              "              style=\"display:none;\">\n",
              "        \n",
              "  <svg xmlns=\"http://www.w3.org/2000/svg\" height=\"24px\"viewBox=\"0 0 24 24\"\n",
              "       width=\"24px\">\n",
              "    <path d=\"M0 0h24v24H0V0z\" fill=\"none\"/>\n",
              "    <path d=\"M18.56 5.44l.94 2.06.94-2.06 2.06-.94-2.06-.94-.94-2.06-.94 2.06-2.06.94zm-11 1L8.5 8.5l.94-2.06 2.06-.94-2.06-.94L8.5 2.5l-.94 2.06-2.06.94zm10 10l.94 2.06.94-2.06 2.06-.94-2.06-.94-.94-2.06-.94 2.06-2.06.94z\"/><path d=\"M17.41 7.96l-1.37-1.37c-.4-.4-.92-.59-1.43-.59-.52 0-1.04.2-1.43.59L10.3 9.45l-7.72 7.72c-.78.78-.78 2.05 0 2.83L4 21.41c.39.39.9.59 1.41.59.51 0 1.02-.2 1.41-.59l7.78-7.78 2.81-2.81c.8-.78.8-2.07 0-2.86zM5.41 20L4 18.59l7.72-7.72 1.47 1.35L5.41 20z\"/>\n",
              "  </svg>\n",
              "      </button>\n",
              "      \n",
              "  <style>\n",
              "    .colab-df-container {\n",
              "      display:flex;\n",
              "      flex-wrap:wrap;\n",
              "      gap: 12px;\n",
              "    }\n",
              "\n",
              "    .colab-df-convert {\n",
              "      background-color: #E8F0FE;\n",
              "      border: none;\n",
              "      border-radius: 50%;\n",
              "      cursor: pointer;\n",
              "      display: none;\n",
              "      fill: #1967D2;\n",
              "      height: 32px;\n",
              "      padding: 0 0 0 0;\n",
              "      width: 32px;\n",
              "    }\n",
              "\n",
              "    .colab-df-convert:hover {\n",
              "      background-color: #E2EBFA;\n",
              "      box-shadow: 0px 1px 2px rgba(60, 64, 67, 0.3), 0px 1px 3px 1px rgba(60, 64, 67, 0.15);\n",
              "      fill: #174EA6;\n",
              "    }\n",
              "\n",
              "    [theme=dark] .colab-df-convert {\n",
              "      background-color: #3B4455;\n",
              "      fill: #D2E3FC;\n",
              "    }\n",
              "\n",
              "    [theme=dark] .colab-df-convert:hover {\n",
              "      background-color: #434B5C;\n",
              "      box-shadow: 0px 1px 3px 1px rgba(0, 0, 0, 0.15);\n",
              "      filter: drop-shadow(0px 1px 2px rgba(0, 0, 0, 0.3));\n",
              "      fill: #FFFFFF;\n",
              "    }\n",
              "  </style>\n",
              "\n",
              "      <script>\n",
              "        const buttonEl =\n",
              "          document.querySelector('#df-9a959df6-1b31-4a51-8aff-d97e2a19a77d button.colab-df-convert');\n",
              "        buttonEl.style.display =\n",
              "          google.colab.kernel.accessAllowed ? 'block' : 'none';\n",
              "\n",
              "        async function convertToInteractive(key) {\n",
              "          const element = document.querySelector('#df-9a959df6-1b31-4a51-8aff-d97e2a19a77d');\n",
              "          const dataTable =\n",
              "            await google.colab.kernel.invokeFunction('convertToInteractive',\n",
              "                                                     [key], {});\n",
              "          if (!dataTable) return;\n",
              "\n",
              "          const docLinkHtml = 'Like what you see? Visit the ' +\n",
              "            '<a target=\"_blank\" href=https://colab.research.google.com/notebooks/data_table.ipynb>data table notebook</a>'\n",
              "            + ' to learn more about interactive tables.';\n",
              "          element.innerHTML = '';\n",
              "          dataTable['output_type'] = 'display_data';\n",
              "          await google.colab.output.renderOutput(dataTable, element);\n",
              "          const docLink = document.createElement('div');\n",
              "          docLink.innerHTML = docLinkHtml;\n",
              "          element.appendChild(docLink);\n",
              "        }\n",
              "      </script>\n",
              "    </div>\n",
              "  </div>\n",
              "  "
            ],
            "text/plain": [
              "               userId   productId  r_ui  prediction\n",
              "0      A2QP26XNESJQEQ  B000099T2H   5.0    4.385170\n",
              "1      A1YVM25R9R9ENG  B008FPMBNG   5.0    4.452700\n",
              "2      A201HVK6NWJJER  B006JKARN0   4.0    4.323425\n",
              "3      A3TJJYF5Y5593Z  B008XMSR6G   3.0    3.265389\n",
              "4      A2QY0WD2JLWUKS  B0050SWS8O   3.0    3.700508\n",
              "...               ...         ...   ...         ...\n",
              "26897  A2KQG9LFXGI91R  B003BO2RNK   3.0    3.245372\n",
              "26898  A169CJ2NJQYIM6  B000FRU0NU   4.0    3.690148\n",
              "26899  A2PSC7LUNIDEAH  B001BDI9SU   5.0    4.657023\n",
              "26900  A23DF9ROSHQ81I  B00002SV6G   4.0    3.754632\n",
              "26901  A2JDP0AH6SDGUU  B000VTQ3LU   4.0    4.168564\n",
              "\n",
              "[26902 rows x 4 columns]"
            ]
          },
          "metadata": {},
          "execution_count": 83
        }
      ]
    },
    {
      "cell_type": "code",
      "source": [
        "all_predictions_user = compute_ranking_predictions(svd_model, train_data, usercol='userId',itemcol='productId', remove_seen=True)\n",
        "all_predictions_user.shape"
      ],
      "metadata": {
        "id": "bd7bzICoWXxQ"
      },
      "execution_count": null,
      "outputs": []
    },
    {
      "cell_type": "code",
      "source": [
        "eval_precision = precision_at_k(test_data, all_predictions_user, col_prediction='prediction',k=10)\n",
        "eval_recall = recall_at_k(test_data, all_predictions_user, col_prediction='prediction',k=10)\n",
        "eval_rmse = rmse(test_data, prediction)\n",
        "eval_mae = mae(test_data, prediction)\n",
        "eval_ndcg = ndcg_at_k(test_data, all_predictions_user, col_prediction='prediction', k=10)"
      ],
      "metadata": {
        "id": "J-QX9HuWWYNv"
      },
      "execution_count": 74,
      "outputs": []
    },
    {
      "cell_type": "code",
      "source": [
        "print(\"Precision@K:\\t%f\" % eval_precision,\n",
        "     \"Recall@K:\\t%f\" % eval_recall,\n",
        "      \"NDCG:\\t%f\" % eval_ndcg,sep='\\n')\n",
        "print('----')\n",
        "print(\"RMSE:\\t\\t%f\" % eval_rmse,\n",
        "     \"MAE:\\t\\t%f\" % eval_mae,  sep='\\n')\n"
      ],
      "metadata": {
        "colab": {
          "base_uri": "https://localhost:8080/"
        },
        "id": "bXgVmRziWYQT",
        "outputId": "5671256a-653a-4548-e01a-e3912d90ff73"
      },
      "execution_count": 75,
      "outputs": [
        {
          "output_type": "stream",
          "name": "stdout",
          "text": [
            "Precision@K:\t0.019864\n",
            "Recall@K:\t0.006800\n",
            "NDCG:\t0.019693\n",
            "----\n",
            "RMSE:\t\t0.813143\n",
            "MAE:\t\t0.624645\n"
          ]
        }
      ]
    },
    {
      "cell_type": "code",
      "source": [
        "def recommendation_video(userid,prediction,num_recommendations = 10):\n",
        "  #lấy và sx rating của user \n",
        "  sorted_user_predictions = prediction[prediction['userId']== userid].sort_values(by = 'prediction',ascending= False)\n",
        "  print('\\n khuyến nghị 10 video cho user (user_id = {}):\\n'.format(userid))\n",
        "  print(sorted_user_predictions['productId'].head(10))"
      ],
      "metadata": {
        "id": "xmILjTp-WYS-"
      },
      "execution_count": 81,
      "outputs": []
    },
    {
      "cell_type": "code",
      "source": [
        "recommendation_video('A1Y5LUJZ8879PP',prediction,10)"
      ],
      "metadata": {
        "colab": {
          "base_uri": "https://localhost:8080/"
        },
        "id": "opPvmw8yWYVo",
        "outputId": "52b869af-9a30-4484-b5da-f22b4da5ba75"
      },
      "execution_count": 82,
      "outputs": [
        {
          "output_type": "stream",
          "name": "stdout",
          "text": [
            "\n",
            " khuyến nghị 10 video cho user (user_id = A1Y5LUJZ8879PP):\n",
            "\n",
            "9722     B000G6SPHI\n",
            "4322     B001NIP3EG\n",
            "14949    B000066TS5\n",
            "24451    B00009VE68\n",
            "1787     B0009A4EVM\n",
            "26339    B009DYE3JI\n",
            "15395    B0002RQ3ES\n",
            "21409    B0000B0MNH\n",
            "6192     B0007SL1ZI\n",
            "7549     B000067DPL\n",
            "Name: productId, dtype: object\n"
          ]
        }
      ]
    },
    {
      "cell_type": "code",
      "source": [
        "recommendation_video('A2QY0WD2JLWUKS',prediction,10)"
      ],
      "metadata": {
        "colab": {
          "base_uri": "https://localhost:8080/"
        },
        "id": "43gOvJKsZhog",
        "outputId": "34fa407e-a1e0-4bef-bcfa-f92c38e00ed8"
      },
      "execution_count": 84,
      "outputs": [
        {
          "output_type": "stream",
          "name": "stdout",
          "text": [
            "\n",
            " khuyến nghị 10 video cho user (user_id = A2QY0WD2JLWUKS):\n",
            "\n",
            "12377    B0013RC1W4\n",
            "433      B0029LJIFG\n",
            "164      B00H2VOELQ\n",
            "5946     B00ATF5YY8\n",
            "5399     B002I7KJ5O\n",
            "5939     B00CIBDOF2\n",
            "12119    B001AH8YSW\n",
            "10499    B00AWSPCPI\n",
            "7567     B003OAE79S\n",
            "4        B0050SWS8O\n",
            "Name: productId, dtype: object\n"
          ]
        }
      ]
    },
    {
      "cell_type": "code",
      "source": [
        "recommendation_video('A169CJ2NJQYIM6',prediction,10)"
      ],
      "metadata": {
        "colab": {
          "base_uri": "https://localhost:8080/"
        },
        "id": "MiZ-DB-dZhu-",
        "outputId": "18da1ddb-cd34-4567-9254-5e510d4a6e47"
      },
      "execution_count": 85,
      "outputs": [
        {
          "output_type": "stream",
          "name": "stdout",
          "text": [
            "\n",
            " khuyến nghị 10 video cho user (user_id = A169CJ2NJQYIM6):\n",
            "\n",
            "24813    B001TORSII\n",
            "26425    B002BSA20M\n",
            "3013     B00008J7NZ\n",
            "26898    B000FRU0NU\n",
            "118      B0009Z3LHK\n",
            "16844    B004BD1DWG\n",
            "14832    B00D96BJSO\n",
            "16635    B0050SWVIQ\n",
            "7455     B00269QLI8\n",
            "17711    B000RHZ9JI\n",
            "Name: productId, dtype: object\n"
          ]
        }
      ]
    },
    {
      "cell_type": "markdown",
      "source": [
        "KNN WITH MEANS "
      ],
      "metadata": {
        "id": "1D40qbWnWev1"
      }
    },
    {
      "cell_type": "code",
      "source": [
        "from surprise import KNNWithMeans\n",
        "\n",
        "# To use user-based cosine similarity\n",
        "sim_options = {\n",
        "    \"name\": \"cosine\",\n",
        "    \"user_based\": True,  \n",
        "}\n",
        "algo = KNNWithMeans(k=10,sim_options=sim_options)"
      ],
      "metadata": {
        "id": "lMaLNVXdSEMe"
      },
      "execution_count": 51,
      "outputs": []
    },
    {
      "cell_type": "code",
      "source": [
        "algo.fit(trainset)"
      ],
      "metadata": {
        "colab": {
          "base_uri": "https://localhost:8080/"
        },
        "id": "ifJcXvYbSO9z",
        "outputId": "d7e4c649-0728-440d-b115-fe35dd895a6a"
      },
      "execution_count": 52,
      "outputs": [
        {
          "output_type": "stream",
          "name": "stdout",
          "text": [
            "Computing the cosine similarity matrix...\n",
            "Done computing similarity matrix.\n"
          ]
        },
        {
          "output_type": "execute_result",
          "data": {
            "text/plain": [
              "<surprise.prediction_algorithms.knns.KNNWithMeans at 0x7f6d686c8a10>"
            ]
          },
          "metadata": {},
          "execution_count": 52
        }
      ]
    },
    {
      "cell_type": "code",
      "source": [
        "prediction = predict(algo, test_data,usercol='userId',itemcol='productId')"
      ],
      "metadata": {
        "id": "HEMOEf3hH27Y"
      },
      "execution_count": 53,
      "outputs": []
    },
    {
      "cell_type": "code",
      "source": [
        "prediction"
      ],
      "metadata": {
        "id": "OhAVF-5XSq5W"
      },
      "execution_count": null,
      "outputs": []
    },
    {
      "cell_type": "code",
      "source": [
        "all_predictions_user = compute_ranking_predictions(algo, train_data, usercol='userId',itemcol='productId', remove_seen=True)\n",
        "all_predictions_user.shape"
      ],
      "metadata": {
        "id": "gtmZTjX_J7mX",
        "colab": {
          "base_uri": "https://localhost:8080/"
        },
        "outputId": "0e8a6422-1a1f-46a9-ef4f-89fad61c5563"
      },
      "execution_count": 71,
      "outputs": [
        {
          "output_type": "execute_result",
          "data": {
            "text/plain": [
              "(19538678, 3)"
            ]
          },
          "metadata": {},
          "execution_count": 71
        }
      ]
    },
    {
      "cell_type": "code",
      "source": [
        "def recommendation_video(userid,prediction,num_recommendations = 10):\n",
        "  #lấy và sx rating của user \n",
        "  sorted_user_predictions = prediction[prediction['userId']== userid].sort_values(by = 'prediction',ascending= False)\n",
        "  print('\\n khuyến nghị 10 video cho user (user_id = {}):\\n'.format(userid))\n",
        "  print(sorted_user_predictions['productId'].head(10))"
      ],
      "metadata": {
        "id": "I1KQgxAh8XqK"
      },
      "execution_count": 56,
      "outputs": []
    },
    {
      "cell_type": "code",
      "source": [
        "recommendation_video('A1Y5LUJZ8879PP',prediction,10)"
      ],
      "metadata": {
        "id": "dvtxdo62-xL-",
        "colab": {
          "base_uri": "https://localhost:8080/"
        },
        "outputId": "ed4a98f9-6364-48f0-c3e0-6f10b2d7c4ed"
      },
      "execution_count": 57,
      "outputs": [
        {
          "output_type": "stream",
          "name": "stdout",
          "text": [
            "\n",
            " khuyến nghị 5 video cho user (user_id = A1Y5LUJZ8879PP):\n",
            "\n",
            "26339    B009DYE3JI\n",
            "9722     B000G6SPHI\n",
            "4322     B001NIP3EG\n",
            "24451    B00009VE68\n",
            "14949    B000066TS5\n",
            "Name: productId, dtype: object\n"
          ]
        }
      ]
    },
    {
      "cell_type": "code",
      "source": [
        "eval_precision = precision_at_k(test_data, all_predictions_user, col_prediction='prediction',k=10)\n",
        "eval_recall = recall_at_k(test_data, all_predictions_user, col_prediction='prediction',k=10)\n",
        "eval_rmse = rmse(test_data, prediction)\n",
        "eval_mae = mae(test_data, prediction)\n",
        "eval_ndcg = ndcg_at_k(test_data, all_predictions_user, col_prediction='prediction', k=10)"
      ],
      "metadata": {
        "id": "AmHpk40fuP1x"
      },
      "execution_count": 58,
      "outputs": []
    },
    {
      "cell_type": "code",
      "source": [
        "print(\"Precision@K:\\t%f\" % eval_precision,\n",
        "     \"Recall@K:\\t%f\" % eval_recall,\n",
        "      \"NDCG:\\t%f\" % eval_ndcg,sep='\\n')\n",
        "print('----')\n",
        "print(\"RMSE:\\t\\t%f\" % eval_rmse,\n",
        "     \"MAE:\\t\\t%f\" % eval_mae,  sep='\\n')\n"
      ],
      "metadata": {
        "colab": {
          "base_uri": "https://localhost:8080/"
        },
        "id": "yG6_v0wp0Ip9",
        "outputId": "53a6c2d6-6d24-43d1-e767-f89a6736b779"
      },
      "execution_count": 59,
      "outputs": [
        {
          "output_type": "stream",
          "name": "stdout",
          "text": [
            "Precision@K:\t0.003359\n",
            "Recall@K:\t0.003798\n",
            "NDCG:\t0.004325\n",
            "----\n",
            "RMSE:\t\t0.786903\n",
            "MAE:\t\t0.553277\n"
          ]
        }
      ]
    },
    {
      "cell_type": "markdown",
      "source": [
        "# ITEM  BASED collaborative-filtering"
      ],
      "metadata": {
        "id": "i_UJ0aJqM8zF"
      }
    },
    {
      "cell_type": "code",
      "source": [
        "from surprise import KNNWithMeans\n",
        "\n",
        "# To use item-based cosine similarity\n",
        "sim_options = {\n",
        "    \"name\": \"cosine\",\n",
        "    \"user_based\": False,  # Compute  similarities between items\n",
        "}\n",
        "algo = KNNWithMeans(k=10,sim_options=sim_options)"
      ],
      "metadata": {
        "id": "mY0GovTqwKBD"
      },
      "execution_count": 64,
      "outputs": []
    },
    {
      "cell_type": "code",
      "source": [
        "algo.fit(trainset)"
      ],
      "metadata": {
        "colab": {
          "base_uri": "https://localhost:8080/"
        },
        "id": "Dv7HLSKH8aj6",
        "outputId": "d567c251-476f-42d6-db72-c1a066f92344"
      },
      "execution_count": 65,
      "outputs": [
        {
          "output_type": "stream",
          "name": "stdout",
          "text": [
            "Computing the cosine similarity matrix...\n",
            "Done computing similarity matrix.\n"
          ]
        },
        {
          "output_type": "execute_result",
          "data": {
            "text/plain": [
              "<surprise.prediction_algorithms.knns.KNNWithMeans at 0x7f6d65b613d0>"
            ]
          },
          "metadata": {},
          "execution_count": 65
        }
      ]
    },
    {
      "cell_type": "code",
      "source": [
        "item_predict = predict(algo ,test_data,usercol='userId',itemcol='productId' )"
      ],
      "metadata": {
        "id": "tXknRmWa8asf"
      },
      "execution_count": 66,
      "outputs": []
    },
    {
      "cell_type": "code",
      "source": [
        "item_predict"
      ],
      "metadata": {
        "colab": {
          "base_uri": "https://localhost:8080/",
          "height": 424
        },
        "id": "hTXbL_7zRSeb",
        "outputId": "30211048-d407-4603-ae57-0aefd2550bd0"
      },
      "execution_count": 67,
      "outputs": [
        {
          "output_type": "execute_result",
          "data": {
            "text/html": [
              "\n",
              "  <div id=\"df-08a84c12-cdcc-448e-a973-1a735468bc8a\">\n",
              "    <div class=\"colab-df-container\">\n",
              "      <div>\n",
              "<style scoped>\n",
              "    .dataframe tbody tr th:only-of-type {\n",
              "        vertical-align: middle;\n",
              "    }\n",
              "\n",
              "    .dataframe tbody tr th {\n",
              "        vertical-align: top;\n",
              "    }\n",
              "\n",
              "    .dataframe thead th {\n",
              "        text-align: right;\n",
              "    }\n",
              "</style>\n",
              "<table border=\"1\" class=\"dataframe\">\n",
              "  <thead>\n",
              "    <tr style=\"text-align: right;\">\n",
              "      <th></th>\n",
              "      <th>userId</th>\n",
              "      <th>productId</th>\n",
              "      <th>r_ui</th>\n",
              "      <th>prediction</th>\n",
              "    </tr>\n",
              "  </thead>\n",
              "  <tbody>\n",
              "    <tr>\n",
              "      <th>0</th>\n",
              "      <td>A2QP26XNESJQEQ</td>\n",
              "      <td>B000099T2H</td>\n",
              "      <td>5.0</td>\n",
              "      <td>4.585703</td>\n",
              "    </tr>\n",
              "    <tr>\n",
              "      <th>1</th>\n",
              "      <td>A1YVM25R9R9ENG</td>\n",
              "      <td>B008FPMBNG</td>\n",
              "      <td>5.0</td>\n",
              "      <td>4.552866</td>\n",
              "    </tr>\n",
              "    <tr>\n",
              "      <th>2</th>\n",
              "      <td>A201HVK6NWJJER</td>\n",
              "      <td>B006JKARN0</td>\n",
              "      <td>4.0</td>\n",
              "      <td>4.301368</td>\n",
              "    </tr>\n",
              "    <tr>\n",
              "      <th>3</th>\n",
              "      <td>A3TJJYF5Y5593Z</td>\n",
              "      <td>B008XMSR6G</td>\n",
              "      <td>3.0</td>\n",
              "      <td>2.920000</td>\n",
              "    </tr>\n",
              "    <tr>\n",
              "      <th>4</th>\n",
              "      <td>A2QY0WD2JLWUKS</td>\n",
              "      <td>B0050SWS8O</td>\n",
              "      <td>3.0</td>\n",
              "      <td>3.408730</td>\n",
              "    </tr>\n",
              "    <tr>\n",
              "      <th>...</th>\n",
              "      <td>...</td>\n",
              "      <td>...</td>\n",
              "      <td>...</td>\n",
              "      <td>...</td>\n",
              "    </tr>\n",
              "    <tr>\n",
              "      <th>26897</th>\n",
              "      <td>A2KQG9LFXGI91R</td>\n",
              "      <td>B003BO2RNK</td>\n",
              "      <td>3.0</td>\n",
              "      <td>3.716429</td>\n",
              "    </tr>\n",
              "    <tr>\n",
              "      <th>26898</th>\n",
              "      <td>A169CJ2NJQYIM6</td>\n",
              "      <td>B000FRU0NU</td>\n",
              "      <td>4.0</td>\n",
              "      <td>3.917991</td>\n",
              "    </tr>\n",
              "    <tr>\n",
              "      <th>26899</th>\n",
              "      <td>A2PSC7LUNIDEAH</td>\n",
              "      <td>B001BDI9SU</td>\n",
              "      <td>5.0</td>\n",
              "      <td>5.000000</td>\n",
              "    </tr>\n",
              "    <tr>\n",
              "      <th>26900</th>\n",
              "      <td>A23DF9ROSHQ81I</td>\n",
              "      <td>B00002SV6G</td>\n",
              "      <td>4.0</td>\n",
              "      <td>3.333214</td>\n",
              "    </tr>\n",
              "    <tr>\n",
              "      <th>26901</th>\n",
              "      <td>A2JDP0AH6SDGUU</td>\n",
              "      <td>B000VTQ3LU</td>\n",
              "      <td>4.0</td>\n",
              "      <td>4.637937</td>\n",
              "    </tr>\n",
              "  </tbody>\n",
              "</table>\n",
              "<p>26902 rows × 4 columns</p>\n",
              "</div>\n",
              "      <button class=\"colab-df-convert\" onclick=\"convertToInteractive('df-08a84c12-cdcc-448e-a973-1a735468bc8a')\"\n",
              "              title=\"Convert this dataframe to an interactive table.\"\n",
              "              style=\"display:none;\">\n",
              "        \n",
              "  <svg xmlns=\"http://www.w3.org/2000/svg\" height=\"24px\"viewBox=\"0 0 24 24\"\n",
              "       width=\"24px\">\n",
              "    <path d=\"M0 0h24v24H0V0z\" fill=\"none\"/>\n",
              "    <path d=\"M18.56 5.44l.94 2.06.94-2.06 2.06-.94-2.06-.94-.94-2.06-.94 2.06-2.06.94zm-11 1L8.5 8.5l.94-2.06 2.06-.94-2.06-.94L8.5 2.5l-.94 2.06-2.06.94zm10 10l.94 2.06.94-2.06 2.06-.94-2.06-.94-.94-2.06-.94 2.06-2.06.94z\"/><path d=\"M17.41 7.96l-1.37-1.37c-.4-.4-.92-.59-1.43-.59-.52 0-1.04.2-1.43.59L10.3 9.45l-7.72 7.72c-.78.78-.78 2.05 0 2.83L4 21.41c.39.39.9.59 1.41.59.51 0 1.02-.2 1.41-.59l7.78-7.78 2.81-2.81c.8-.78.8-2.07 0-2.86zM5.41 20L4 18.59l7.72-7.72 1.47 1.35L5.41 20z\"/>\n",
              "  </svg>\n",
              "      </button>\n",
              "      \n",
              "  <style>\n",
              "    .colab-df-container {\n",
              "      display:flex;\n",
              "      flex-wrap:wrap;\n",
              "      gap: 12px;\n",
              "    }\n",
              "\n",
              "    .colab-df-convert {\n",
              "      background-color: #E8F0FE;\n",
              "      border: none;\n",
              "      border-radius: 50%;\n",
              "      cursor: pointer;\n",
              "      display: none;\n",
              "      fill: #1967D2;\n",
              "      height: 32px;\n",
              "      padding: 0 0 0 0;\n",
              "      width: 32px;\n",
              "    }\n",
              "\n",
              "    .colab-df-convert:hover {\n",
              "      background-color: #E2EBFA;\n",
              "      box-shadow: 0px 1px 2px rgba(60, 64, 67, 0.3), 0px 1px 3px 1px rgba(60, 64, 67, 0.15);\n",
              "      fill: #174EA6;\n",
              "    }\n",
              "\n",
              "    [theme=dark] .colab-df-convert {\n",
              "      background-color: #3B4455;\n",
              "      fill: #D2E3FC;\n",
              "    }\n",
              "\n",
              "    [theme=dark] .colab-df-convert:hover {\n",
              "      background-color: #434B5C;\n",
              "      box-shadow: 0px 1px 3px 1px rgba(0, 0, 0, 0.15);\n",
              "      filter: drop-shadow(0px 1px 2px rgba(0, 0, 0, 0.3));\n",
              "      fill: #FFFFFF;\n",
              "    }\n",
              "  </style>\n",
              "\n",
              "      <script>\n",
              "        const buttonEl =\n",
              "          document.querySelector('#df-08a84c12-cdcc-448e-a973-1a735468bc8a button.colab-df-convert');\n",
              "        buttonEl.style.display =\n",
              "          google.colab.kernel.accessAllowed ? 'block' : 'none';\n",
              "\n",
              "        async function convertToInteractive(key) {\n",
              "          const element = document.querySelector('#df-08a84c12-cdcc-448e-a973-1a735468bc8a');\n",
              "          const dataTable =\n",
              "            await google.colab.kernel.invokeFunction('convertToInteractive',\n",
              "                                                     [key], {});\n",
              "          if (!dataTable) return;\n",
              "\n",
              "          const docLinkHtml = 'Like what you see? Visit the ' +\n",
              "            '<a target=\"_blank\" href=https://colab.research.google.com/notebooks/data_table.ipynb>data table notebook</a>'\n",
              "            + ' to learn more about interactive tables.';\n",
              "          element.innerHTML = '';\n",
              "          dataTable['output_type'] = 'display_data';\n",
              "          await google.colab.output.renderOutput(dataTable, element);\n",
              "          const docLink = document.createElement('div');\n",
              "          docLink.innerHTML = docLinkHtml;\n",
              "          element.appendChild(docLink);\n",
              "        }\n",
              "      </script>\n",
              "    </div>\n",
              "  </div>\n",
              "  "
            ],
            "text/plain": [
              "               userId   productId  r_ui  prediction\n",
              "0      A2QP26XNESJQEQ  B000099T2H   5.0    4.585703\n",
              "1      A1YVM25R9R9ENG  B008FPMBNG   5.0    4.552866\n",
              "2      A201HVK6NWJJER  B006JKARN0   4.0    4.301368\n",
              "3      A3TJJYF5Y5593Z  B008XMSR6G   3.0    2.920000\n",
              "4      A2QY0WD2JLWUKS  B0050SWS8O   3.0    3.408730\n",
              "...               ...         ...   ...         ...\n",
              "26897  A2KQG9LFXGI91R  B003BO2RNK   3.0    3.716429\n",
              "26898  A169CJ2NJQYIM6  B000FRU0NU   4.0    3.917991\n",
              "26899  A2PSC7LUNIDEAH  B001BDI9SU   5.0    5.000000\n",
              "26900  A23DF9ROSHQ81I  B00002SV6G   4.0    3.333214\n",
              "26901  A2JDP0AH6SDGUU  B000VTQ3LU   4.0    4.637937\n",
              "\n",
              "[26902 rows x 4 columns]"
            ]
          },
          "metadata": {},
          "execution_count": 67
        }
      ]
    },
    {
      "cell_type": "code",
      "source": [
        "item_predict.sort_values(by = 'prediction',ascending= False)"
      ],
      "metadata": {
        "colab": {
          "base_uri": "https://localhost:8080/",
          "height": 424
        },
        "id": "ovGG40pYIhV8",
        "outputId": "54bc99d1-29db-41bb-e5c3-3f2e3532fb72"
      },
      "execution_count": 68,
      "outputs": [
        {
          "output_type": "execute_result",
          "data": {
            "text/html": [
              "\n",
              "  <div id=\"df-eee73458-ad4c-4643-abfe-4b7119f68b68\">\n",
              "    <div class=\"colab-df-container\">\n",
              "      <div>\n",
              "<style scoped>\n",
              "    .dataframe tbody tr th:only-of-type {\n",
              "        vertical-align: middle;\n",
              "    }\n",
              "\n",
              "    .dataframe tbody tr th {\n",
              "        vertical-align: top;\n",
              "    }\n",
              "\n",
              "    .dataframe thead th {\n",
              "        text-align: right;\n",
              "    }\n",
              "</style>\n",
              "<table border=\"1\" class=\"dataframe\">\n",
              "  <thead>\n",
              "    <tr style=\"text-align: right;\">\n",
              "      <th></th>\n",
              "      <th>userId</th>\n",
              "      <th>productId</th>\n",
              "      <th>r_ui</th>\n",
              "      <th>prediction</th>\n",
              "    </tr>\n",
              "  </thead>\n",
              "  <tbody>\n",
              "    <tr>\n",
              "      <th>19525</th>\n",
              "      <td>AFJIA32NLIHSI</td>\n",
              "      <td>B004ZGYZXS</td>\n",
              "      <td>5.0</td>\n",
              "      <td>5.0</td>\n",
              "    </tr>\n",
              "    <tr>\n",
              "      <th>9849</th>\n",
              "      <td>A3LOOGDJ7S01LA</td>\n",
              "      <td>B000GQ1FVG</td>\n",
              "      <td>5.0</td>\n",
              "      <td>5.0</td>\n",
              "    </tr>\n",
              "    <tr>\n",
              "      <th>14514</th>\n",
              "      <td>A2KVUYPLEW4LXT</td>\n",
              "      <td>B00001NTSO</td>\n",
              "      <td>5.0</td>\n",
              "      <td>5.0</td>\n",
              "    </tr>\n",
              "    <tr>\n",
              "      <th>20134</th>\n",
              "      <td>A1EMDSTJDUE6B0</td>\n",
              "      <td>B001ABN82K</td>\n",
              "      <td>5.0</td>\n",
              "      <td>5.0</td>\n",
              "    </tr>\n",
              "    <tr>\n",
              "      <th>2725</th>\n",
              "      <td>A15UA9II7PFZ2J</td>\n",
              "      <td>B00005NN5L</td>\n",
              "      <td>5.0</td>\n",
              "      <td>5.0</td>\n",
              "    </tr>\n",
              "    <tr>\n",
              "      <th>...</th>\n",
              "      <td>...</td>\n",
              "      <td>...</td>\n",
              "      <td>...</td>\n",
              "      <td>...</td>\n",
              "    </tr>\n",
              "    <tr>\n",
              "      <th>1056</th>\n",
              "      <td>AYWSFRCIMOAYE</td>\n",
              "      <td>B001FEO75Y</td>\n",
              "      <td>1.0</td>\n",
              "      <td>1.0</td>\n",
              "    </tr>\n",
              "    <tr>\n",
              "      <th>25103</th>\n",
              "      <td>A2LMG83PDZDKEX</td>\n",
              "      <td>B0001MBCD6</td>\n",
              "      <td>1.0</td>\n",
              "      <td>1.0</td>\n",
              "    </tr>\n",
              "    <tr>\n",
              "      <th>25767</th>\n",
              "      <td>AGR4LKC72JEQ8</td>\n",
              "      <td>B00008XKZN</td>\n",
              "      <td>1.0</td>\n",
              "      <td>1.0</td>\n",
              "    </tr>\n",
              "    <tr>\n",
              "      <th>26762</th>\n",
              "      <td>ADJN5SED20T8</td>\n",
              "      <td>B001TOQ8R0</td>\n",
              "      <td>1.0</td>\n",
              "      <td>1.0</td>\n",
              "    </tr>\n",
              "    <tr>\n",
              "      <th>21977</th>\n",
              "      <td>ACVKFV8LD7HDH</td>\n",
              "      <td>B004774724</td>\n",
              "      <td>1.0</td>\n",
              "      <td>1.0</td>\n",
              "    </tr>\n",
              "  </tbody>\n",
              "</table>\n",
              "<p>26902 rows × 4 columns</p>\n",
              "</div>\n",
              "      <button class=\"colab-df-convert\" onclick=\"convertToInteractive('df-eee73458-ad4c-4643-abfe-4b7119f68b68')\"\n",
              "              title=\"Convert this dataframe to an interactive table.\"\n",
              "              style=\"display:none;\">\n",
              "        \n",
              "  <svg xmlns=\"http://www.w3.org/2000/svg\" height=\"24px\"viewBox=\"0 0 24 24\"\n",
              "       width=\"24px\">\n",
              "    <path d=\"M0 0h24v24H0V0z\" fill=\"none\"/>\n",
              "    <path d=\"M18.56 5.44l.94 2.06.94-2.06 2.06-.94-2.06-.94-.94-2.06-.94 2.06-2.06.94zm-11 1L8.5 8.5l.94-2.06 2.06-.94-2.06-.94L8.5 2.5l-.94 2.06-2.06.94zm10 10l.94 2.06.94-2.06 2.06-.94-2.06-.94-.94-2.06-.94 2.06-2.06.94z\"/><path d=\"M17.41 7.96l-1.37-1.37c-.4-.4-.92-.59-1.43-.59-.52 0-1.04.2-1.43.59L10.3 9.45l-7.72 7.72c-.78.78-.78 2.05 0 2.83L4 21.41c.39.39.9.59 1.41.59.51 0 1.02-.2 1.41-.59l7.78-7.78 2.81-2.81c.8-.78.8-2.07 0-2.86zM5.41 20L4 18.59l7.72-7.72 1.47 1.35L5.41 20z\"/>\n",
              "  </svg>\n",
              "      </button>\n",
              "      \n",
              "  <style>\n",
              "    .colab-df-container {\n",
              "      display:flex;\n",
              "      flex-wrap:wrap;\n",
              "      gap: 12px;\n",
              "    }\n",
              "\n",
              "    .colab-df-convert {\n",
              "      background-color: #E8F0FE;\n",
              "      border: none;\n",
              "      border-radius: 50%;\n",
              "      cursor: pointer;\n",
              "      display: none;\n",
              "      fill: #1967D2;\n",
              "      height: 32px;\n",
              "      padding: 0 0 0 0;\n",
              "      width: 32px;\n",
              "    }\n",
              "\n",
              "    .colab-df-convert:hover {\n",
              "      background-color: #E2EBFA;\n",
              "      box-shadow: 0px 1px 2px rgba(60, 64, 67, 0.3), 0px 1px 3px 1px rgba(60, 64, 67, 0.15);\n",
              "      fill: #174EA6;\n",
              "    }\n",
              "\n",
              "    [theme=dark] .colab-df-convert {\n",
              "      background-color: #3B4455;\n",
              "      fill: #D2E3FC;\n",
              "    }\n",
              "\n",
              "    [theme=dark] .colab-df-convert:hover {\n",
              "      background-color: #434B5C;\n",
              "      box-shadow: 0px 1px 3px 1px rgba(0, 0, 0, 0.15);\n",
              "      filter: drop-shadow(0px 1px 2px rgba(0, 0, 0, 0.3));\n",
              "      fill: #FFFFFF;\n",
              "    }\n",
              "  </style>\n",
              "\n",
              "      <script>\n",
              "        const buttonEl =\n",
              "          document.querySelector('#df-eee73458-ad4c-4643-abfe-4b7119f68b68 button.colab-df-convert');\n",
              "        buttonEl.style.display =\n",
              "          google.colab.kernel.accessAllowed ? 'block' : 'none';\n",
              "\n",
              "        async function convertToInteractive(key) {\n",
              "          const element = document.querySelector('#df-eee73458-ad4c-4643-abfe-4b7119f68b68');\n",
              "          const dataTable =\n",
              "            await google.colab.kernel.invokeFunction('convertToInteractive',\n",
              "                                                     [key], {});\n",
              "          if (!dataTable) return;\n",
              "\n",
              "          const docLinkHtml = 'Like what you see? Visit the ' +\n",
              "            '<a target=\"_blank\" href=https://colab.research.google.com/notebooks/data_table.ipynb>data table notebook</a>'\n",
              "            + ' to learn more about interactive tables.';\n",
              "          element.innerHTML = '';\n",
              "          dataTable['output_type'] = 'display_data';\n",
              "          await google.colab.output.renderOutput(dataTable, element);\n",
              "          const docLink = document.createElement('div');\n",
              "          docLink.innerHTML = docLinkHtml;\n",
              "          element.appendChild(docLink);\n",
              "        }\n",
              "      </script>\n",
              "    </div>\n",
              "  </div>\n",
              "  "
            ],
            "text/plain": [
              "               userId   productId  r_ui  prediction\n",
              "19525   AFJIA32NLIHSI  B004ZGYZXS   5.0         5.0\n",
              "9849   A3LOOGDJ7S01LA  B000GQ1FVG   5.0         5.0\n",
              "14514  A2KVUYPLEW4LXT  B00001NTSO   5.0         5.0\n",
              "20134  A1EMDSTJDUE6B0  B001ABN82K   5.0         5.0\n",
              "2725   A15UA9II7PFZ2J  B00005NN5L   5.0         5.0\n",
              "...               ...         ...   ...         ...\n",
              "1056    AYWSFRCIMOAYE  B001FEO75Y   1.0         1.0\n",
              "25103  A2LMG83PDZDKEX  B0001MBCD6   1.0         1.0\n",
              "25767   AGR4LKC72JEQ8  B00008XKZN   1.0         1.0\n",
              "26762    ADJN5SED20T8  B001TOQ8R0   1.0         1.0\n",
              "21977   ACVKFV8LD7HDH  B004774724   1.0         1.0\n",
              "\n",
              "[26902 rows x 4 columns]"
            ]
          },
          "metadata": {},
          "execution_count": 68
        }
      ]
    },
    {
      "cell_type": "code",
      "source": [
        "all_predictions = compute_ranking_predictions(algo, train_data, usercol='userId',itemcol='productId', remove_seen=True)"
      ],
      "metadata": {
        "id": "9dzaqGH7CYhN"
      },
      "execution_count": 69,
      "outputs": []
    },
    {
      "cell_type": "code",
      "source": [
        "all_predictions"
      ],
      "metadata": {
        "id": "ripGzLXTKjCj",
        "colab": {
          "base_uri": "https://localhost:8080/",
          "height": 424
        },
        "outputId": "c1fa97fd-241a-4c5b-cf11-cca43f16a5a7"
      },
      "execution_count": 70,
      "outputs": [
        {
          "output_type": "execute_result",
          "data": {
            "text/html": [
              "\n",
              "  <div id=\"df-b2399cf0-330b-4923-9bfb-7e8c06cb1a01\">\n",
              "    <div class=\"colab-df-container\">\n",
              "      <div>\n",
              "<style scoped>\n",
              "    .dataframe tbody tr th:only-of-type {\n",
              "        vertical-align: middle;\n",
              "    }\n",
              "\n",
              "    .dataframe tbody tr th {\n",
              "        vertical-align: top;\n",
              "    }\n",
              "\n",
              "    .dataframe thead th {\n",
              "        text-align: right;\n",
              "    }\n",
              "</style>\n",
              "<table border=\"1\" class=\"dataframe\">\n",
              "  <thead>\n",
              "    <tr style=\"text-align: right;\">\n",
              "      <th></th>\n",
              "      <th>userId</th>\n",
              "      <th>productId</th>\n",
              "      <th>prediction</th>\n",
              "    </tr>\n",
              "  </thead>\n",
              "  <tbody>\n",
              "    <tr>\n",
              "      <th>40353</th>\n",
              "      <td>A3F67YZNFDY6YI</td>\n",
              "      <td>B00CMQTVK0</td>\n",
              "      <td>4.220717</td>\n",
              "    </tr>\n",
              "    <tr>\n",
              "      <th>40354</th>\n",
              "      <td>A3F67YZNFDY6YI</td>\n",
              "      <td>B001ENPDJA</td>\n",
              "      <td>4.012698</td>\n",
              "    </tr>\n",
              "    <tr>\n",
              "      <th>40355</th>\n",
              "      <td>A3F67YZNFDY6YI</td>\n",
              "      <td>B0006PJAZU</td>\n",
              "      <td>5.000000</td>\n",
              "    </tr>\n",
              "    <tr>\n",
              "      <th>40356</th>\n",
              "      <td>A3F67YZNFDY6YI</td>\n",
              "      <td>B0001UEHP8</td>\n",
              "      <td>4.374305</td>\n",
              "    </tr>\n",
              "    <tr>\n",
              "      <th>40357</th>\n",
              "      <td>A3F67YZNFDY6YI</td>\n",
              "      <td>B002I0K8JI</td>\n",
              "      <td>4.279581</td>\n",
              "    </tr>\n",
              "    <tr>\n",
              "      <th>...</th>\n",
              "      <td>...</td>\n",
              "      <td>...</td>\n",
              "      <td>...</td>\n",
              "    </tr>\n",
              "    <tr>\n",
              "      <th>19579026</th>\n",
              "      <td>ARAGORUBUH8XT</td>\n",
              "      <td>B00002S6ED</td>\n",
              "      <td>4.000000</td>\n",
              "    </tr>\n",
              "    <tr>\n",
              "      <th>19579027</th>\n",
              "      <td>ARAGORUBUH8XT</td>\n",
              "      <td>B000A0XSOU</td>\n",
              "      <td>3.500000</td>\n",
              "    </tr>\n",
              "    <tr>\n",
              "      <th>19579028</th>\n",
              "      <td>ARAGORUBUH8XT</td>\n",
              "      <td>B00008OE4M</td>\n",
              "      <td>3.000000</td>\n",
              "    </tr>\n",
              "    <tr>\n",
              "      <th>19579029</th>\n",
              "      <td>ARAGORUBUH8XT</td>\n",
              "      <td>B002BWQMBG</td>\n",
              "      <td>4.000000</td>\n",
              "    </tr>\n",
              "    <tr>\n",
              "      <th>19579030</th>\n",
              "      <td>ARAGORUBUH8XT</td>\n",
              "      <td>B0041TD3O6</td>\n",
              "      <td>4.045796</td>\n",
              "    </tr>\n",
              "  </tbody>\n",
              "</table>\n",
              "<p>19538678 rows × 3 columns</p>\n",
              "</div>\n",
              "      <button class=\"colab-df-convert\" onclick=\"convertToInteractive('df-b2399cf0-330b-4923-9bfb-7e8c06cb1a01')\"\n",
              "              title=\"Convert this dataframe to an interactive table.\"\n",
              "              style=\"display:none;\">\n",
              "        \n",
              "  <svg xmlns=\"http://www.w3.org/2000/svg\" height=\"24px\"viewBox=\"0 0 24 24\"\n",
              "       width=\"24px\">\n",
              "    <path d=\"M0 0h24v24H0V0z\" fill=\"none\"/>\n",
              "    <path d=\"M18.56 5.44l.94 2.06.94-2.06 2.06-.94-2.06-.94-.94-2.06-.94 2.06-2.06.94zm-11 1L8.5 8.5l.94-2.06 2.06-.94-2.06-.94L8.5 2.5l-.94 2.06-2.06.94zm10 10l.94 2.06.94-2.06 2.06-.94-2.06-.94-.94-2.06-.94 2.06-2.06.94z\"/><path d=\"M17.41 7.96l-1.37-1.37c-.4-.4-.92-.59-1.43-.59-.52 0-1.04.2-1.43.59L10.3 9.45l-7.72 7.72c-.78.78-.78 2.05 0 2.83L4 21.41c.39.39.9.59 1.41.59.51 0 1.02-.2 1.41-.59l7.78-7.78 2.81-2.81c.8-.78.8-2.07 0-2.86zM5.41 20L4 18.59l7.72-7.72 1.47 1.35L5.41 20z\"/>\n",
              "  </svg>\n",
              "      </button>\n",
              "      \n",
              "  <style>\n",
              "    .colab-df-container {\n",
              "      display:flex;\n",
              "      flex-wrap:wrap;\n",
              "      gap: 12px;\n",
              "    }\n",
              "\n",
              "    .colab-df-convert {\n",
              "      background-color: #E8F0FE;\n",
              "      border: none;\n",
              "      border-radius: 50%;\n",
              "      cursor: pointer;\n",
              "      display: none;\n",
              "      fill: #1967D2;\n",
              "      height: 32px;\n",
              "      padding: 0 0 0 0;\n",
              "      width: 32px;\n",
              "    }\n",
              "\n",
              "    .colab-df-convert:hover {\n",
              "      background-color: #E2EBFA;\n",
              "      box-shadow: 0px 1px 2px rgba(60, 64, 67, 0.3), 0px 1px 3px 1px rgba(60, 64, 67, 0.15);\n",
              "      fill: #174EA6;\n",
              "    }\n",
              "\n",
              "    [theme=dark] .colab-df-convert {\n",
              "      background-color: #3B4455;\n",
              "      fill: #D2E3FC;\n",
              "    }\n",
              "\n",
              "    [theme=dark] .colab-df-convert:hover {\n",
              "      background-color: #434B5C;\n",
              "      box-shadow: 0px 1px 3px 1px rgba(0, 0, 0, 0.15);\n",
              "      filter: drop-shadow(0px 1px 2px rgba(0, 0, 0, 0.3));\n",
              "      fill: #FFFFFF;\n",
              "    }\n",
              "  </style>\n",
              "\n",
              "      <script>\n",
              "        const buttonEl =\n",
              "          document.querySelector('#df-b2399cf0-330b-4923-9bfb-7e8c06cb1a01 button.colab-df-convert');\n",
              "        buttonEl.style.display =\n",
              "          google.colab.kernel.accessAllowed ? 'block' : 'none';\n",
              "\n",
              "        async function convertToInteractive(key) {\n",
              "          const element = document.querySelector('#df-b2399cf0-330b-4923-9bfb-7e8c06cb1a01');\n",
              "          const dataTable =\n",
              "            await google.colab.kernel.invokeFunction('convertToInteractive',\n",
              "                                                     [key], {});\n",
              "          if (!dataTable) return;\n",
              "\n",
              "          const docLinkHtml = 'Like what you see? Visit the ' +\n",
              "            '<a target=\"_blank\" href=https://colab.research.google.com/notebooks/data_table.ipynb>data table notebook</a>'\n",
              "            + ' to learn more about interactive tables.';\n",
              "          element.innerHTML = '';\n",
              "          dataTable['output_type'] = 'display_data';\n",
              "          await google.colab.output.renderOutput(dataTable, element);\n",
              "          const docLink = document.createElement('div');\n",
              "          docLink.innerHTML = docLinkHtml;\n",
              "          element.appendChild(docLink);\n",
              "        }\n",
              "      </script>\n",
              "    </div>\n",
              "  </div>\n",
              "  "
            ],
            "text/plain": [
              "                  userId   productId  prediction\n",
              "40353     A3F67YZNFDY6YI  B00CMQTVK0    4.220717\n",
              "40354     A3F67YZNFDY6YI  B001ENPDJA    4.012698\n",
              "40355     A3F67YZNFDY6YI  B0006PJAZU    5.000000\n",
              "40356     A3F67YZNFDY6YI  B0001UEHP8    4.374305\n",
              "40357     A3F67YZNFDY6YI  B002I0K8JI    4.279581\n",
              "...                  ...         ...         ...\n",
              "19579026   ARAGORUBUH8XT  B00002S6ED    4.000000\n",
              "19579027   ARAGORUBUH8XT  B000A0XSOU    3.500000\n",
              "19579028   ARAGORUBUH8XT  B00008OE4M    3.000000\n",
              "19579029   ARAGORUBUH8XT  B002BWQMBG    4.000000\n",
              "19579030   ARAGORUBUH8XT  B0041TD3O6    4.045796\n",
              "\n",
              "[19538678 rows x 3 columns]"
            ]
          },
          "metadata": {},
          "execution_count": 70
        }
      ]
    },
    {
      "cell_type": "code",
      "source": [
        "eval_mae = mae(test_data, item_predict)\n",
        "eval_rmse = rmse(test_data, item_predict)"
      ],
      "metadata": {
        "id": "qqmlzO3S8axy"
      },
      "execution_count": 71,
      "outputs": []
    },
    {
      "cell_type": "code",
      "source": [
        "eval_precision = precision_at_k(test_data, all_predictions, col_prediction='prediction',k=10)\n",
        "eval_recall = recall_at_k(test_data, all_predictions, col_prediction='prediction',k=10)\n",
        "eval_ndcg = ndcg_at_k(test_data, all_predictions, col_prediction='prediction', k=10)"
      ],
      "metadata": {
        "id": "xMV9CWz1AJYn"
      },
      "execution_count": 72,
      "outputs": []
    },
    {
      "cell_type": "code",
      "source": [
        "print(\"Precision@K:\\t%f\" % eval_precision,\n",
        "     \"Recall@K:\\t%f\" % eval_recall, sep='\\n')\n",
        "print(\"RMSE:\\t\\t%f\" % eval_rmse,\n",
        "      \"MAE:\\t\\t%f\" % eval_mae,\n",
        "    \"NDCG:\\t%f\" % eval_ndcg, sep='\\n')"
      ],
      "metadata": {
        "colab": {
          "base_uri": "https://localhost:8080/"
        },
        "id": "AM6p6Z73GRlg",
        "outputId": "52fdddf1-7345-4a24-d4fc-bcbe623032cf"
      },
      "execution_count": 73,
      "outputs": [
        {
          "output_type": "stream",
          "name": "stdout",
          "text": [
            "Precision@K:\t0.001412\n",
            "Recall@K:\t0.001113\n",
            "RMSE:\t\t0.806276\n",
            "MAE:\t\t0.579635\n",
            "NDCG:\t0.001253\n"
          ]
        }
      ]
    },
    {
      "cell_type": "markdown",
      "source": [
        "# CONTENT-BASED recommendation\n"
      ],
      "metadata": {
        "id": "tOWcPCVWiWKt"
      }
    },
    {
      "cell_type": "code",
      "source": [
        "df_data = reviews.merge(topuser_ratings_df, on = 'productId')"
      ],
      "metadata": {
        "id": "i2Y6puaj_Zil"
      },
      "execution_count": null,
      "outputs": []
    },
    {
      "cell_type": "code",
      "source": [
        "df_data.shape"
      ],
      "metadata": {
        "id": "izARHNVp_Zlg",
        "colab": {
          "base_uri": "https://localhost:8080/"
        },
        "outputId": "77aa58a4-6fe0-4333-81e9-ac8606614c7c"
      },
      "execution_count": null,
      "outputs": [
        {
          "output_type": "execute_result",
          "data": {
            "text/plain": [
              "(65967, 6)"
            ]
          },
          "metadata": {},
          "execution_count": 68
        }
      ]
    },
    {
      "cell_type": "code",
      "source": [
        "df_data['category']= df_data['category'].str.split('|') # chia chuỗi category thành 1 mảng chuỗi\n",
        "df_data['category'] = df_data['category'].fillna(\"\").astype('str') # convert thành giá trị chuỗi"
      ],
      "metadata": {
        "id": "Pv-ERXgwJ2i2"
      },
      "execution_count": null,
      "outputs": []
    },
    {
      "cell_type": "code",
      "source": [
        "a  = df_data.head(10000).copy()"
      ],
      "metadata": {
        "id": "u_mhHbuihJ0b"
      },
      "execution_count": null,
      "outputs": []
    },
    {
      "cell_type": "code",
      "source": [
        "df3 = a.copy() # chạy với 10k dòng data "
      ],
      "metadata": {
        "id": "YvIu_LR5hqrk"
      },
      "execution_count": null,
      "outputs": []
    },
    {
      "cell_type": "code",
      "source": [
        "df3"
      ],
      "metadata": {
        "id": "RAY-lLe-H_Z-",
        "colab": {
          "base_uri": "https://localhost:8080/",
          "height": 659
        },
        "outputId": "3da2ab05-a696-478a-e463-d727ac8a22b6"
      },
      "execution_count": null,
      "outputs": [
        {
          "output_type": "execute_result",
          "data": {
            "text/html": [
              "\n",
              "  <div id=\"df-adf2d5a0-8441-4bb5-a5ab-3d955b3307bd\">\n",
              "    <div class=\"colab-df-container\">\n",
              "      <div>\n",
              "<style scoped>\n",
              "    .dataframe tbody tr th:only-of-type {\n",
              "        vertical-align: middle;\n",
              "    }\n",
              "\n",
              "    .dataframe tbody tr th {\n",
              "        vertical-align: top;\n",
              "    }\n",
              "\n",
              "    .dataframe thead th {\n",
              "        text-align: right;\n",
              "    }\n",
              "</style>\n",
              "<table border=\"1\" class=\"dataframe\">\n",
              "  <thead>\n",
              "    <tr style=\"text-align: right;\">\n",
              "      <th></th>\n",
              "      <th>category</th>\n",
              "      <th>title</th>\n",
              "      <th>brand</th>\n",
              "      <th>productId</th>\n",
              "      <th>userId</th>\n",
              "      <th>rating</th>\n",
              "    </tr>\n",
              "  </thead>\n",
              "  <tbody>\n",
              "    <tr>\n",
              "      <th>0</th>\n",
              "      <td>['Video Games', ' PC', ' Games']</td>\n",
              "      <td>Kingdoms of Kalamar Dungeon Masters Shield</td>\n",
              "      <td>Kingdoms of Kalamar Official Dungeons  Dragons</td>\n",
              "      <td>1594590133</td>\n",
              "      <td>A1Q4ZU2Y929N0A</td>\n",
              "      <td>5.0</td>\n",
              "    </tr>\n",
              "    <tr>\n",
              "      <th>1</th>\n",
              "      <td>['Video Games', ' PC', ' Games']</td>\n",
              "      <td>Turok PC</td>\n",
              "      <td>Akklaim</td>\n",
              "      <td>1888449543</td>\n",
              "      <td>A12E0Y0J6584RT</td>\n",
              "      <td>5.0</td>\n",
              "    </tr>\n",
              "    <tr>\n",
              "      <th>2</th>\n",
              "      <td>['Video Games', ' Kids amp Family', ' Nintendo...</td>\n",
              "      <td>Foto Frenzy Spot the Difference</td>\n",
              "      <td>by\\n    \\n    Storm City Entertainment</td>\n",
              "      <td>3828770193</td>\n",
              "      <td>A21WVMM3FA60QO</td>\n",
              "      <td>5.0</td>\n",
              "    </tr>\n",
              "    <tr>\n",
              "      <th>3</th>\n",
              "      <td>['Video Games', ' Kids amp Family', ' Nintendo...</td>\n",
              "      <td>Foto Frenzy Spot the Difference</td>\n",
              "      <td>by\\n    \\n    Storm City Entertainment</td>\n",
              "      <td>3828770193</td>\n",
              "      <td>A2KBL5XP89LR9R</td>\n",
              "      <td>4.0</td>\n",
              "    </tr>\n",
              "    <tr>\n",
              "      <th>4</th>\n",
              "      <td>['Video Games', ' PlayStation 3', ' Accessorie...</td>\n",
              "      <td>USB Microphone for RockBand or Guitar Hero PS3...</td>\n",
              "      <td>by\\n    \\n    Logitech</td>\n",
              "      <td>6050036071</td>\n",
              "      <td>A91BVZEDZYEWW</td>\n",
              "      <td>5.0</td>\n",
              "    </tr>\n",
              "    <tr>\n",
              "      <th>...</th>\n",
              "      <td>...</td>\n",
              "      <td>...</td>\n",
              "      <td>...</td>\n",
              "      <td>...</td>\n",
              "      <td>...</td>\n",
              "      <td>...</td>\n",
              "    </tr>\n",
              "    <tr>\n",
              "      <th>9995</th>\n",
              "      <td>['Video Games', ' Retro Gaming amp Microconsol...</td>\n",
              "      <td>Mega Man Xtreme 2</td>\n",
              "      <td>Capcom</td>\n",
              "      <td>B00005MOME</td>\n",
              "      <td>A3XBWFQEPGC</td>\n",
              "      <td>5.0</td>\n",
              "    </tr>\n",
              "    <tr>\n",
              "      <th>9996</th>\n",
              "      <td>['Video Games', ' Retro Gaming  Microconsoles'...</td>\n",
              "      <td>PlayStation2 Gran Turismo 3 Game Pack</td>\n",
              "      <td>by\\n    \\n    SPIG</td>\n",
              "      <td>B00005N6XO</td>\n",
              "      <td>A38CGA6QQF1BPI</td>\n",
              "      <td>1.0</td>\n",
              "    </tr>\n",
              "    <tr>\n",
              "      <th>9997</th>\n",
              "      <td>['Video Games', ' PC', ' Games']</td>\n",
              "      <td>The Sims Hot Date Expansion Pack - PC</td>\n",
              "      <td>by\\n    \\n    Electronic Arts</td>\n",
              "      <td>B00005N6ZL</td>\n",
              "      <td>ALUPHVYE5J5VQ</td>\n",
              "      <td>5.0</td>\n",
              "    </tr>\n",
              "    <tr>\n",
              "      <th>9998</th>\n",
              "      <td>['Video Games', ' PC', ' Games']</td>\n",
              "      <td>The Sims Hot Date Expansion Pack - PC</td>\n",
              "      <td>by\\n    \\n    Electronic Arts</td>\n",
              "      <td>B00005N6ZL</td>\n",
              "      <td>AWVQR7YYTYJ1L</td>\n",
              "      <td>5.0</td>\n",
              "    </tr>\n",
              "    <tr>\n",
              "      <th>9999</th>\n",
              "      <td>['Video Games', ' PC', ' Games']</td>\n",
              "      <td>The Sims Hot Date Expansion Pack - PC</td>\n",
              "      <td>by\\n    \\n    Electronic Arts</td>\n",
              "      <td>B00005N6ZL</td>\n",
              "      <td>A37HCSGGRH8UO6</td>\n",
              "      <td>5.0</td>\n",
              "    </tr>\n",
              "  </tbody>\n",
              "</table>\n",
              "<p>10000 rows × 6 columns</p>\n",
              "</div>\n",
              "      <button class=\"colab-df-convert\" onclick=\"convertToInteractive('df-adf2d5a0-8441-4bb5-a5ab-3d955b3307bd')\"\n",
              "              title=\"Convert this dataframe to an interactive table.\"\n",
              "              style=\"display:none;\">\n",
              "        \n",
              "  <svg xmlns=\"http://www.w3.org/2000/svg\" height=\"24px\"viewBox=\"0 0 24 24\"\n",
              "       width=\"24px\">\n",
              "    <path d=\"M0 0h24v24H0V0z\" fill=\"none\"/>\n",
              "    <path d=\"M18.56 5.44l.94 2.06.94-2.06 2.06-.94-2.06-.94-.94-2.06-.94 2.06-2.06.94zm-11 1L8.5 8.5l.94-2.06 2.06-.94-2.06-.94L8.5 2.5l-.94 2.06-2.06.94zm10 10l.94 2.06.94-2.06 2.06-.94-2.06-.94-.94-2.06-.94 2.06-2.06.94z\"/><path d=\"M17.41 7.96l-1.37-1.37c-.4-.4-.92-.59-1.43-.59-.52 0-1.04.2-1.43.59L10.3 9.45l-7.72 7.72c-.78.78-.78 2.05 0 2.83L4 21.41c.39.39.9.59 1.41.59.51 0 1.02-.2 1.41-.59l7.78-7.78 2.81-2.81c.8-.78.8-2.07 0-2.86zM5.41 20L4 18.59l7.72-7.72 1.47 1.35L5.41 20z\"/>\n",
              "  </svg>\n",
              "      </button>\n",
              "      \n",
              "  <style>\n",
              "    .colab-df-container {\n",
              "      display:flex;\n",
              "      flex-wrap:wrap;\n",
              "      gap: 12px;\n",
              "    }\n",
              "\n",
              "    .colab-df-convert {\n",
              "      background-color: #E8F0FE;\n",
              "      border: none;\n",
              "      border-radius: 50%;\n",
              "      cursor: pointer;\n",
              "      display: none;\n",
              "      fill: #1967D2;\n",
              "      height: 32px;\n",
              "      padding: 0 0 0 0;\n",
              "      width: 32px;\n",
              "    }\n",
              "\n",
              "    .colab-df-convert:hover {\n",
              "      background-color: #E2EBFA;\n",
              "      box-shadow: 0px 1px 2px rgba(60, 64, 67, 0.3), 0px 1px 3px 1px rgba(60, 64, 67, 0.15);\n",
              "      fill: #174EA6;\n",
              "    }\n",
              "\n",
              "    [theme=dark] .colab-df-convert {\n",
              "      background-color: #3B4455;\n",
              "      fill: #D2E3FC;\n",
              "    }\n",
              "\n",
              "    [theme=dark] .colab-df-convert:hover {\n",
              "      background-color: #434B5C;\n",
              "      box-shadow: 0px 1px 3px 1px rgba(0, 0, 0, 0.15);\n",
              "      filter: drop-shadow(0px 1px 2px rgba(0, 0, 0, 0.3));\n",
              "      fill: #FFFFFF;\n",
              "    }\n",
              "  </style>\n",
              "\n",
              "      <script>\n",
              "        const buttonEl =\n",
              "          document.querySelector('#df-adf2d5a0-8441-4bb5-a5ab-3d955b3307bd button.colab-df-convert');\n",
              "        buttonEl.style.display =\n",
              "          google.colab.kernel.accessAllowed ? 'block' : 'none';\n",
              "\n",
              "        async function convertToInteractive(key) {\n",
              "          const element = document.querySelector('#df-adf2d5a0-8441-4bb5-a5ab-3d955b3307bd');\n",
              "          const dataTable =\n",
              "            await google.colab.kernel.invokeFunction('convertToInteractive',\n",
              "                                                     [key], {});\n",
              "          if (!dataTable) return;\n",
              "\n",
              "          const docLinkHtml = 'Like what you see? Visit the ' +\n",
              "            '<a target=\"_blank\" href=https://colab.research.google.com/notebooks/data_table.ipynb>data table notebook</a>'\n",
              "            + ' to learn more about interactive tables.';\n",
              "          element.innerHTML = '';\n",
              "          dataTable['output_type'] = 'display_data';\n",
              "          await google.colab.output.renderOutput(dataTable, element);\n",
              "          const docLink = document.createElement('div');\n",
              "          docLink.innerHTML = docLinkHtml;\n",
              "          element.appendChild(docLink);\n",
              "        }\n",
              "      </script>\n",
              "    </div>\n",
              "  </div>\n",
              "  "
            ],
            "text/plain": [
              "                                               category  ... rating\n",
              "0                      ['Video Games', ' PC', ' Games']  ...    5.0\n",
              "1                      ['Video Games', ' PC', ' Games']  ...    5.0\n",
              "2     ['Video Games', ' Kids amp Family', ' Nintendo...  ...    5.0\n",
              "3     ['Video Games', ' Kids amp Family', ' Nintendo...  ...    4.0\n",
              "4     ['Video Games', ' PlayStation 3', ' Accessorie...  ...    5.0\n",
              "...                                                 ...  ...    ...\n",
              "9995  ['Video Games', ' Retro Gaming amp Microconsol...  ...    5.0\n",
              "9996  ['Video Games', ' Retro Gaming  Microconsoles'...  ...    1.0\n",
              "9997                   ['Video Games', ' PC', ' Games']  ...    5.0\n",
              "9998                   ['Video Games', ' PC', ' Games']  ...    5.0\n",
              "9999                   ['Video Games', ' PC', ' Games']  ...    5.0\n",
              "\n",
              "[10000 rows x 6 columns]"
            ]
          },
          "metadata": {},
          "execution_count": 72
        }
      ]
    },
    {
      "cell_type": "code",
      "source": [
        "from sklearn.feature_extraction.text import TfidfVectorizer\n",
        "tf = TfidfVectorizer(analyzer='word',ngram_range=(1, 2),min_df=0, stop_words='english')\n",
        "tfidf_matrix = tf.fit_transform(df3['category'])\n",
        "tfidf_matrix.shape"
      ],
      "metadata": {
        "id": "TpI_MtxLhquc",
        "colab": {
          "base_uri": "https://localhost:8080/"
        },
        "outputId": "16f53744-fc20-4d57-eb76-f3c08e857b96"
      },
      "execution_count": null,
      "outputs": [
        {
          "output_type": "execute_result",
          "data": {
            "text/plain": [
              "(10000, 7918)"
            ]
          },
          "metadata": {},
          "execution_count": 73
        }
      ]
    },
    {
      "cell_type": "code",
      "source": [
        "tfidf_matrix.todense()"
      ],
      "metadata": {
        "colab": {
          "base_uri": "https://localhost:8080/"
        },
        "id": "4eaAw1hVd6JY",
        "outputId": "cab08023-4630-4579-b678-e30f6a46133e"
      },
      "execution_count": null,
      "outputs": [
        {
          "output_type": "execute_result",
          "data": {
            "text/plain": [
              "matrix([[0., 0., 0., ..., 0., 0., 0.],\n",
              "        [0., 0., 0., ..., 0., 0., 0.],\n",
              "        [0., 0., 0., ..., 0., 0., 0.],\n",
              "        ...,\n",
              "        [0., 0., 0., ..., 0., 0., 0.],\n",
              "        [0., 0., 0., ..., 0., 0., 0.],\n",
              "        [0., 0., 0., ..., 0., 0., 0.]])"
            ]
          },
          "metadata": {},
          "execution_count": 74
        }
      ]
    },
    {
      "cell_type": "code",
      "source": [
        "from sklearn.metrics.pairwise import linear_kernel\n",
        "cosine_sim = linear_kernel(tfidf_matrix, tfidf_matrix)\n",
        "cosine_sim"
      ],
      "metadata": {
        "id": "9oOl8_Y0hqxJ",
        "colab": {
          "base_uri": "https://localhost:8080/"
        },
        "outputId": "3b66d3f5-3321-4b12-a8a3-3ee84077fa3a"
      },
      "execution_count": null,
      "outputs": [
        {
          "output_type": "execute_result",
          "data": {
            "text/plain": [
              "array([[1.        , 1.        , 0.05263066, ..., 1.        , 1.        ,\n",
              "        1.        ],\n",
              "       [1.        , 1.        , 0.05263066, ..., 1.        , 1.        ,\n",
              "        1.        ],\n",
              "       [0.05263066, 0.05263066, 1.        , ..., 0.05263066, 0.05263066,\n",
              "        0.05263066],\n",
              "       ...,\n",
              "       [1.        , 1.        , 0.05263066, ..., 1.        , 1.        ,\n",
              "        1.        ],\n",
              "       [1.        , 1.        , 0.05263066, ..., 1.        , 1.        ,\n",
              "        1.        ],\n",
              "       [1.        , 1.        , 0.05263066, ..., 1.        , 1.        ,\n",
              "        1.        ]])"
            ]
          },
          "metadata": {},
          "execution_count": 75
        }
      ]
    },
    {
      "cell_type": "code",
      "source": [
        "titles = df3['title']\n",
        "indices = pd.Series(df3.index, index=df3['title'])\n",
        "\n",
        "# hàm đề xuất sản phẩm dựa trên điểm tương đồng Cosine của các sản phẩm \n",
        "def category_recommendations(title):\n",
        "    idx = indices[title]\n",
        "    sim_scores = list(enumerate(cosine_sim[idx]))\n",
        "    sim_scores = sorted(sim_scores, key=lambda x: x[1], reverse=True)\n",
        "    sim_scores = sim_scores[1:21]\n",
        "    product_indices = [i[0] for i in sim_scores]\n",
        "    return titles.iloc[product_indices]"
      ],
      "metadata": {
        "id": "VObjprJfhqz1"
      },
      "execution_count": null,
      "outputs": []
    },
    {
      "cell_type": "code",
      "source": [
        "category_recommendations('Turok PC').head(10)"
      ],
      "metadata": {
        "id": "FKbiUfk2hq2z",
        "colab": {
          "base_uri": "https://localhost:8080/"
        },
        "outputId": "3d77cdcf-958a-43e3-bb13-76ab13063cb2"
      },
      "execution_count": null,
      "outputs": [
        {
          "output_type": "execute_result",
          "data": {
            "text/plain": [
              "1                   Turok PC\n",
              "8        Ship Simulator 2008\n",
              "22             Uyku stasyonu\n",
              "101         The X-Files Game\n",
              "116        Final Fantasy VII\n",
              "117        Final Fantasy VII\n",
              "118        Final Fantasy VII\n",
              "203    Grand Theft Auto - PC\n",
              "267           Half-Life - PC\n",
              "268           Half-Life - PC\n",
              "Name: title, dtype: object"
            ]
          },
          "metadata": {},
          "execution_count": 77
        }
      ]
    },
    {
      "cell_type": "code",
      "source": [
        "category_recommendations('Mega Man Xtreme 2').head(10)"
      ],
      "metadata": {
        "id": "kZ9bgAJOz-1O",
        "colab": {
          "base_uri": "https://localhost:8080/"
        },
        "outputId": "4f38182f-8d3e-4b8d-d14a-884336f01806"
      },
      "execution_count": null,
      "outputs": [
        {
          "output_type": "execute_result",
          "data": {
            "text/plain": [
              "1664        Rugrats Time Travelers\n",
              "1692                  Yoda Stories\n",
              "1753              Deja Vu I amp II\n",
              "1754              Deja Vu I amp II\n",
              "1770                  Test Drive 6\n",
              "1782    Pro Darts - Game Boy Color\n",
              "1800       Hello Kitty Cube Frenzy\n",
              "2385           Castlevania Legends\n",
              "2386           Castlevania Legends\n",
              "2387           Castlevania Legends\n",
              "Name: title, dtype: object"
            ]
          },
          "metadata": {},
          "execution_count": 78
        }
      ]
    },
    {
      "cell_type": "code",
      "source": [
        "def get_video_title(productId):\n",
        "  return df3['title'].iloc[productId]\n",
        "def get_video_rating(productId):\n",
        "  return df3[\"rating\"].iloc[productId]"
      ],
      "metadata": {
        "id": "BHmvTiWl5g6B"
      },
      "execution_count": null,
      "outputs": []
    },
    {
      "cell_type": "code",
      "source": [
        ""
      ],
      "metadata": {
        "id": "diCJH6nMRtzf"
      },
      "execution_count": null,
      "outputs": []
    },
    {
      "cell_type": "code",
      "source": [
        "def recommend_video(movie_input):\n",
        "  movie_index = indices[movie_input]\n",
        "  similarity_score = list(enumerate(cosine_sim[movie_index]))\n",
        "  similarity_score = sorted(similarity_score, key=lambda x: x[1], reverse=True)\n",
        "  similarity_score = similarity_score[1:101]\n",
        "  recommendations = [(get_video_title(movieid), movieid, get_video_rating(movieid), score) for movieid, score in similarity_score]\n",
        "  print(recommendations)\n",
        "  return recommendations"
      ],
      "metadata": {
        "id": "IrgF7mFm5zAm"
      },
      "execution_count": null,
      "outputs": []
    },
    {
      "cell_type": "code",
      "source": [
        "recommend_video('Mega Man Xtreme 2')"
      ],
      "metadata": {
        "colab": {
          "base_uri": "https://localhost:8080/"
        },
        "id": "9P3ngGnv6CEK",
        "outputId": "5ec6926b-244e-4317-ce4a-bac45339c871"
      },
      "execution_count": null,
      "outputs": [
        {
          "output_type": "stream",
          "name": "stdout",
          "text": [
            "[('Rugrats Time Travelers', 1664, 5.0, 0.9999999999999997), ('Yoda Stories', 1692, 1.0, 0.9999999999999997), ('Deja Vu I amp II', 1753, 5.0, 0.9999999999999997), ('Deja Vu I amp II', 1754, 4.0, 0.9999999999999997), ('Test Drive 6', 1770, 4.0, 0.9999999999999997), ('Pro Darts - Game Boy Color', 1782, 5.0, 0.9999999999999997), ('Hello Kitty Cube Frenzy', 1800, 4.0, 0.9999999999999997), ('Castlevania Legends', 2385, 2.0, 0.9999999999999997), ('Castlevania Legends', 2386, 5.0, 0.9999999999999997), ('Castlevania Legends', 2387, 5.0, 0.9999999999999997), ('Bomberman GB', 2402, 5.0, 0.9999999999999997), ('Animaniacs', 2412, 5.0, 0.9999999999999997), ('Looney Tunes Twouble', 2468, 1.0, 0.9999999999999997), ('WWF King of the Ring Game Boy| 1993', 2472, 5.0, 0.9999999999999997), ('Donkey Kong Land', 3559, 4.0, 0.9999999999999997), ('Donkey Kong Land', 3560, 3.0, 0.9999999999999997), ('Donkey Kong Land', 3561, 5.0, 0.9999999999999997), ('Donkey Kong Land', 3562, 4.0, 0.9999999999999997), ('Super Breakout Battlezone', 3732, 3.0, 0.9999999999999997), ('Donkey Kong', 3733, 5.0, 0.9999999999999997), ('Donkey Kong', 3734, 5.0, 0.9999999999999997), ('Donkey Kong', 3735, 5.0, 0.9999999999999997), ('Donkey Kong', 3736, 5.0, 0.9999999999999997), ('Donkey Kong', 3737, 5.0, 0.9999999999999997), ('Wario Land Super Mario Land 3', 3890, 5.0, 0.9999999999999997), ('Wario Land Super Mario Land 3', 3891, 5.0, 0.9999999999999997), ('Wario Land Super Mario Land 3', 3892, 5.0, 0.9999999999999997), ('Wario Land Super Mario Land 3', 3893, 5.0, 0.9999999999999997), ('Wario Land Super Mario Land 3', 3894, 5.0, 0.9999999999999997), ('Wario Land Super Mario Land 3', 3895, 5.0, 0.9999999999999997), ('Wario Land Super Mario Land 3', 3896, 5.0, 0.9999999999999997), ('Pokemon Pinball', 4105, 5.0, 0.9999999999999997), ('Pokemon Pinball', 4106, 5.0, 0.9999999999999997), ('Super Chase HQ', 4210, 4.0, 0.9999999999999997), ('Castlevania II Belmonts Revenge', 4261, 4.0, 0.9999999999999997), ('Castlevania II Belmonts Revenge', 4262, 5.0, 0.9999999999999997), ('Castlevania II Belmonts Revenge', 4263, 5.0, 0.9999999999999997), ('Castlevania II Belmonts Revenge', 4264, 5.0, 0.9999999999999997), ('Castlevania II Belmonts Revenge', 4265, 5.0, 0.9999999999999997), ('Tesserae', 4441, 1.0, 0.9999999999999997), ('Pro Pool', 5522, 4.0, 0.9999999999999997), ('Pokemon| Silver Version', 6669, 5.0, 0.9999999999999997), ('Pokemon| Silver Version', 6670, 5.0, 0.9999999999999997), ('Pokemon| Silver Version', 6671, 5.0, 0.9999999999999997), ('Pokemon| Silver Version', 6672, 5.0, 0.9999999999999997), ('Pokemon| Silver Version', 6673, 3.0, 0.9999999999999997), ('Pokemon| Silver Version', 6674, 4.0, 0.9999999999999997), ('Pokemon| Silver Version', 6675, 5.0, 0.9999999999999997), ('Pokemon| Silver Version', 6676, 4.0, 0.9999999999999997), ('Pokemon| Silver Version', 6677, 5.0, 0.9999999999999997), ('Pokemon| Silver Version', 6678, 4.0, 0.9999999999999997), ('Pokemon| Silver Version', 6679, 5.0, 0.9999999999999997), ('Pokemon| Silver Version', 6680, 5.0, 0.9999999999999997), ('Pokemon| Silver Version', 6681, 5.0, 0.9999999999999997), ('Tony Hawks Pro Skater 2', 6693, 3.0, 0.9999999999999997), ('Blade', 6975, 2.0, 0.9999999999999997), ('The Grinch - GameBoy Color', 7012, 4.0, 0.9999999999999997), ('The Grinch - GameBoy Color', 7013, 4.0, 0.9999999999999997), ('The Simpsons Night of the Living Treehouse of Horror', 7014, 4.0, 0.9999999999999997), ('The Simpsons Night of the Living Treehouse of Horror', 7015, 4.0, 0.9999999999999997), ('Woody Woodpecker Racing', 7021, 5.0, 0.9999999999999997), ('Dragons Lair', 8431, 1.0, 0.9999999999999997), ('The Flintstones Burgertime in Bedrock', 8533, 5.0, 0.9999999999999997), ('Kirby Tilt N Tumble', 8802, 4.0, 0.9999999999999997), ('Kirby Tilt N Tumble', 8803, 5.0, 0.9999999999999997), ('Bugs Bunny Crazy Castle 2', 9013, 5.0, 0.9999999999999997), ('Lara Croft Tomb Raider - Curse of the Sword', 9580, 5.0, 0.9999999999999997), ('Lara Croft Tomb Raider - Curse of the Sword', 9581, 3.0, 0.9999999999999997), ('Mega Man Xtreme 2', 9995, 5.0, 0.9999999999999997), ('Toy Story 2', 1663, 4.0, 0.9244075720225742), ('Game Boy Camera - Red', 2401, 5.0, 0.9244075720225742), ('Mortal Kombat II', 2407, 1.0, 0.9244075720225742), ('Mortal Kombat II', 2408, 4.0, 0.9244075720225742), ('Mortal Kombat II', 2409, 4.0, 0.9244075720225742), ('Mortal Kombat II', 2410, 3.0, 0.9244075720225742), ('Mortal Kombat II', 2411, 4.0, 0.9244075720225742), ('Nyko Worm Light Kiwi Green', 4069, 3.0, 0.9244075720225742), ('Ten Pin Bowling with Rumble Game Boy Color Only', 9218, 5.0, 0.9244075720225742), ('Ten Pin Bowling with Rumble Game Boy Color Only', 9219, 1.0, 0.9244075720225742), ('Donkey Kong Land III', 589, 4.0, 0.9144975777215626), ('Bugs Bunny in Crazy Castle 3', 590, 5.0, 0.9144975777215626), ('Bugs Bunny in Crazy Castle 3', 591, 4.0, 0.9144975777215626), ('Pokemon - Red Version', 595, 4.0, 0.9144975777215626), ('Pokemon - Red Version', 596, 5.0, 0.9144975777215626), ('Pokemon - Red Version', 597, 3.0, 0.9144975777215626), ('Pokemon - Red Version', 598, 5.0, 0.9144975777215626), ('Pokemon - Red Version', 599, 5.0, 0.9144975777215626), ('Pokemon - Red Version', 600, 5.0, 0.9144975777215626), ('Pokemon - Red Version', 601, 3.0, 0.9144975777215626), ('Pokemon - Red Version', 602, 5.0, 0.9144975777215626), ('Pokemon - Red Version', 603, 5.0, 0.9144975777215626), ('Pokemon - Red Version', 604, 5.0, 0.9144975777215626), ('Pokemon - Red Version', 605, 5.0, 0.9144975777215626), ('Pokemon - Red Version', 606, 5.0, 0.9144975777215626), ('Pokemon - Red Version', 607, 4.0, 0.9144975777215626), ('Marble Madness', 936, 4.0, 0.9144975777215626), ('Street Fighter Alpha Warriors Dreams', 969, 4.0, 0.9144975777215626), ('Street Fighter Alpha Warriors Dreams', 970, 4.0, 0.9144975777215626), ('WWF Wrestlemania 2000', 1694, 1.0, 0.9144975777215626), ('WWF Wrestlemania 2000', 1695, 4.0, 0.9144975777215626)]\n"
          ]
        },
        {
          "output_type": "execute_result",
          "data": {
            "text/plain": [
              "[('Rugrats Time Travelers', 1664, 5.0, 0.9999999999999997),\n",
              " ('Yoda Stories', 1692, 1.0, 0.9999999999999997),\n",
              " ('Deja Vu I amp II', 1753, 5.0, 0.9999999999999997),\n",
              " ('Deja Vu I amp II', 1754, 4.0, 0.9999999999999997),\n",
              " ('Test Drive 6', 1770, 4.0, 0.9999999999999997),\n",
              " ('Pro Darts - Game Boy Color', 1782, 5.0, 0.9999999999999997),\n",
              " ('Hello Kitty Cube Frenzy', 1800, 4.0, 0.9999999999999997),\n",
              " ('Castlevania Legends', 2385, 2.0, 0.9999999999999997),\n",
              " ('Castlevania Legends', 2386, 5.0, 0.9999999999999997),\n",
              " ('Castlevania Legends', 2387, 5.0, 0.9999999999999997),\n",
              " ('Bomberman GB', 2402, 5.0, 0.9999999999999997),\n",
              " ('Animaniacs', 2412, 5.0, 0.9999999999999997),\n",
              " ('Looney Tunes Twouble', 2468, 1.0, 0.9999999999999997),\n",
              " ('WWF King of the Ring Game Boy| 1993', 2472, 5.0, 0.9999999999999997),\n",
              " ('Donkey Kong Land', 3559, 4.0, 0.9999999999999997),\n",
              " ('Donkey Kong Land', 3560, 3.0, 0.9999999999999997),\n",
              " ('Donkey Kong Land', 3561, 5.0, 0.9999999999999997),\n",
              " ('Donkey Kong Land', 3562, 4.0, 0.9999999999999997),\n",
              " ('Super Breakout Battlezone', 3732, 3.0, 0.9999999999999997),\n",
              " ('Donkey Kong', 3733, 5.0, 0.9999999999999997),\n",
              " ('Donkey Kong', 3734, 5.0, 0.9999999999999997),\n",
              " ('Donkey Kong', 3735, 5.0, 0.9999999999999997),\n",
              " ('Donkey Kong', 3736, 5.0, 0.9999999999999997),\n",
              " ('Donkey Kong', 3737, 5.0, 0.9999999999999997),\n",
              " ('Wario Land Super Mario Land 3', 3890, 5.0, 0.9999999999999997),\n",
              " ('Wario Land Super Mario Land 3', 3891, 5.0, 0.9999999999999997),\n",
              " ('Wario Land Super Mario Land 3', 3892, 5.0, 0.9999999999999997),\n",
              " ('Wario Land Super Mario Land 3', 3893, 5.0, 0.9999999999999997),\n",
              " ('Wario Land Super Mario Land 3', 3894, 5.0, 0.9999999999999997),\n",
              " ('Wario Land Super Mario Land 3', 3895, 5.0, 0.9999999999999997),\n",
              " ('Wario Land Super Mario Land 3', 3896, 5.0, 0.9999999999999997),\n",
              " ('Pokemon Pinball', 4105, 5.0, 0.9999999999999997),\n",
              " ('Pokemon Pinball', 4106, 5.0, 0.9999999999999997),\n",
              " ('Super Chase HQ', 4210, 4.0, 0.9999999999999997),\n",
              " ('Castlevania II Belmonts Revenge', 4261, 4.0, 0.9999999999999997),\n",
              " ('Castlevania II Belmonts Revenge', 4262, 5.0, 0.9999999999999997),\n",
              " ('Castlevania II Belmonts Revenge', 4263, 5.0, 0.9999999999999997),\n",
              " ('Castlevania II Belmonts Revenge', 4264, 5.0, 0.9999999999999997),\n",
              " ('Castlevania II Belmonts Revenge', 4265, 5.0, 0.9999999999999997),\n",
              " ('Tesserae', 4441, 1.0, 0.9999999999999997),\n",
              " ('Pro Pool', 5522, 4.0, 0.9999999999999997),\n",
              " ('Pokemon| Silver Version', 6669, 5.0, 0.9999999999999997),\n",
              " ('Pokemon| Silver Version', 6670, 5.0, 0.9999999999999997),\n",
              " ('Pokemon| Silver Version', 6671, 5.0, 0.9999999999999997),\n",
              " ('Pokemon| Silver Version', 6672, 5.0, 0.9999999999999997),\n",
              " ('Pokemon| Silver Version', 6673, 3.0, 0.9999999999999997),\n",
              " ('Pokemon| Silver Version', 6674, 4.0, 0.9999999999999997),\n",
              " ('Pokemon| Silver Version', 6675, 5.0, 0.9999999999999997),\n",
              " ('Pokemon| Silver Version', 6676, 4.0, 0.9999999999999997),\n",
              " ('Pokemon| Silver Version', 6677, 5.0, 0.9999999999999997),\n",
              " ('Pokemon| Silver Version', 6678, 4.0, 0.9999999999999997),\n",
              " ('Pokemon| Silver Version', 6679, 5.0, 0.9999999999999997),\n",
              " ('Pokemon| Silver Version', 6680, 5.0, 0.9999999999999997),\n",
              " ('Pokemon| Silver Version', 6681, 5.0, 0.9999999999999997),\n",
              " ('Tony Hawks Pro Skater 2', 6693, 3.0, 0.9999999999999997),\n",
              " ('Blade', 6975, 2.0, 0.9999999999999997),\n",
              " ('The Grinch - GameBoy Color', 7012, 4.0, 0.9999999999999997),\n",
              " ('The Grinch - GameBoy Color', 7013, 4.0, 0.9999999999999997),\n",
              " ('The Simpsons Night of the Living Treehouse of Horror',\n",
              "  7014,\n",
              "  4.0,\n",
              "  0.9999999999999997),\n",
              " ('The Simpsons Night of the Living Treehouse of Horror',\n",
              "  7015,\n",
              "  4.0,\n",
              "  0.9999999999999997),\n",
              " ('Woody Woodpecker Racing', 7021, 5.0, 0.9999999999999997),\n",
              " ('Dragons Lair', 8431, 1.0, 0.9999999999999997),\n",
              " ('The Flintstones Burgertime in Bedrock', 8533, 5.0, 0.9999999999999997),\n",
              " ('Kirby Tilt N Tumble', 8802, 4.0, 0.9999999999999997),\n",
              " ('Kirby Tilt N Tumble', 8803, 5.0, 0.9999999999999997),\n",
              " ('Bugs Bunny Crazy Castle 2', 9013, 5.0, 0.9999999999999997),\n",
              " ('Lara Croft Tomb Raider - Curse of the Sword',\n",
              "  9580,\n",
              "  5.0,\n",
              "  0.9999999999999997),\n",
              " ('Lara Croft Tomb Raider - Curse of the Sword',\n",
              "  9581,\n",
              "  3.0,\n",
              "  0.9999999999999997),\n",
              " ('Mega Man Xtreme 2', 9995, 5.0, 0.9999999999999997),\n",
              " ('Toy Story 2', 1663, 4.0, 0.9244075720225742),\n",
              " ('Game Boy Camera - Red', 2401, 5.0, 0.9244075720225742),\n",
              " ('Mortal Kombat II', 2407, 1.0, 0.9244075720225742),\n",
              " ('Mortal Kombat II', 2408, 4.0, 0.9244075720225742),\n",
              " ('Mortal Kombat II', 2409, 4.0, 0.9244075720225742),\n",
              " ('Mortal Kombat II', 2410, 3.0, 0.9244075720225742),\n",
              " ('Mortal Kombat II', 2411, 4.0, 0.9244075720225742),\n",
              " ('Nyko Worm Light Kiwi Green', 4069, 3.0, 0.9244075720225742),\n",
              " ('Ten Pin Bowling with Rumble Game Boy Color Only',\n",
              "  9218,\n",
              "  5.0,\n",
              "  0.9244075720225742),\n",
              " ('Ten Pin Bowling with Rumble Game Boy Color Only',\n",
              "  9219,\n",
              "  1.0,\n",
              "  0.9244075720225742),\n",
              " ('Donkey Kong Land III', 589, 4.0, 0.9144975777215626),\n",
              " ('Bugs Bunny in Crazy Castle 3', 590, 5.0, 0.9144975777215626),\n",
              " ('Bugs Bunny in Crazy Castle 3', 591, 4.0, 0.9144975777215626),\n",
              " ('Pokemon - Red Version', 595, 4.0, 0.9144975777215626),\n",
              " ('Pokemon - Red Version', 596, 5.0, 0.9144975777215626),\n",
              " ('Pokemon - Red Version', 597, 3.0, 0.9144975777215626),\n",
              " ('Pokemon - Red Version', 598, 5.0, 0.9144975777215626),\n",
              " ('Pokemon - Red Version', 599, 5.0, 0.9144975777215626),\n",
              " ('Pokemon - Red Version', 600, 5.0, 0.9144975777215626),\n",
              " ('Pokemon - Red Version', 601, 3.0, 0.9144975777215626),\n",
              " ('Pokemon - Red Version', 602, 5.0, 0.9144975777215626),\n",
              " ('Pokemon - Red Version', 603, 5.0, 0.9144975777215626),\n",
              " ('Pokemon - Red Version', 604, 5.0, 0.9144975777215626),\n",
              " ('Pokemon - Red Version', 605, 5.0, 0.9144975777215626),\n",
              " ('Pokemon - Red Version', 606, 5.0, 0.9144975777215626),\n",
              " ('Pokemon - Red Version', 607, 4.0, 0.9144975777215626),\n",
              " ('Marble Madness', 936, 4.0, 0.9144975777215626),\n",
              " ('Street Fighter Alpha Warriors Dreams', 969, 4.0, 0.9144975777215626),\n",
              " ('Street Fighter Alpha Warriors Dreams', 970, 4.0, 0.9144975777215626),\n",
              " ('WWF Wrestlemania 2000', 1694, 1.0, 0.9144975777215626),\n",
              " ('WWF Wrestlemania 2000', 1695, 4.0, 0.9144975777215626)]"
            ]
          },
          "metadata": {},
          "execution_count": 93
        }
      ]
    },
    {
      "cell_type": "code",
      "source": [
        "test = recommend_video('Mega Man Xtreme 2')"
      ],
      "metadata": {
        "colab": {
          "base_uri": "https://localhost:8080/"
        },
        "id": "QpetJCWx48b2",
        "outputId": "92217405-6f39-456f-8c7a-0073d009f071"
      },
      "execution_count": null,
      "outputs": [
        {
          "output_type": "stream",
          "name": "stdout",
          "text": [
            "[('Rugrats Time Travelers', 1664, 5.0, 0.9999999999999997), ('Yoda Stories', 1692, 1.0, 0.9999999999999997), ('Deja Vu I amp II', 1753, 5.0, 0.9999999999999997), ('Deja Vu I amp II', 1754, 4.0, 0.9999999999999997), ('Test Drive 6', 1770, 4.0, 0.9999999999999997), ('Pro Darts - Game Boy Color', 1782, 5.0, 0.9999999999999997), ('Hello Kitty Cube Frenzy', 1800, 4.0, 0.9999999999999997), ('Castlevania Legends', 2385, 2.0, 0.9999999999999997), ('Castlevania Legends', 2386, 5.0, 0.9999999999999997), ('Castlevania Legends', 2387, 5.0, 0.9999999999999997), ('Bomberman GB', 2402, 5.0, 0.9999999999999997), ('Animaniacs', 2412, 5.0, 0.9999999999999997), ('Looney Tunes Twouble', 2468, 1.0, 0.9999999999999997), ('WWF King of the Ring Game Boy| 1993', 2472, 5.0, 0.9999999999999997), ('Donkey Kong Land', 3559, 4.0, 0.9999999999999997), ('Donkey Kong Land', 3560, 3.0, 0.9999999999999997), ('Donkey Kong Land', 3561, 5.0, 0.9999999999999997), ('Donkey Kong Land', 3562, 4.0, 0.9999999999999997), ('Super Breakout Battlezone', 3732, 3.0, 0.9999999999999997), ('Donkey Kong', 3733, 5.0, 0.9999999999999997), ('Donkey Kong', 3734, 5.0, 0.9999999999999997), ('Donkey Kong', 3735, 5.0, 0.9999999999999997), ('Donkey Kong', 3736, 5.0, 0.9999999999999997), ('Donkey Kong', 3737, 5.0, 0.9999999999999997), ('Wario Land Super Mario Land 3', 3890, 5.0, 0.9999999999999997), ('Wario Land Super Mario Land 3', 3891, 5.0, 0.9999999999999997), ('Wario Land Super Mario Land 3', 3892, 5.0, 0.9999999999999997), ('Wario Land Super Mario Land 3', 3893, 5.0, 0.9999999999999997), ('Wario Land Super Mario Land 3', 3894, 5.0, 0.9999999999999997), ('Wario Land Super Mario Land 3', 3895, 5.0, 0.9999999999999997), ('Wario Land Super Mario Land 3', 3896, 5.0, 0.9999999999999997), ('Pokemon Pinball', 4105, 5.0, 0.9999999999999997), ('Pokemon Pinball', 4106, 5.0, 0.9999999999999997), ('Super Chase HQ', 4210, 4.0, 0.9999999999999997), ('Castlevania II Belmonts Revenge', 4261, 4.0, 0.9999999999999997), ('Castlevania II Belmonts Revenge', 4262, 5.0, 0.9999999999999997), ('Castlevania II Belmonts Revenge', 4263, 5.0, 0.9999999999999997), ('Castlevania II Belmonts Revenge', 4264, 5.0, 0.9999999999999997), ('Castlevania II Belmonts Revenge', 4265, 5.0, 0.9999999999999997), ('Tesserae', 4441, 1.0, 0.9999999999999997), ('Pro Pool', 5522, 4.0, 0.9999999999999997), ('Pokemon| Silver Version', 6669, 5.0, 0.9999999999999997), ('Pokemon| Silver Version', 6670, 5.0, 0.9999999999999997), ('Pokemon| Silver Version', 6671, 5.0, 0.9999999999999997), ('Pokemon| Silver Version', 6672, 5.0, 0.9999999999999997), ('Pokemon| Silver Version', 6673, 3.0, 0.9999999999999997), ('Pokemon| Silver Version', 6674, 4.0, 0.9999999999999997), ('Pokemon| Silver Version', 6675, 5.0, 0.9999999999999997), ('Pokemon| Silver Version', 6676, 4.0, 0.9999999999999997), ('Pokemon| Silver Version', 6677, 5.0, 0.9999999999999997), ('Pokemon| Silver Version', 6678, 4.0, 0.9999999999999997), ('Pokemon| Silver Version', 6679, 5.0, 0.9999999999999997), ('Pokemon| Silver Version', 6680, 5.0, 0.9999999999999997), ('Pokemon| Silver Version', 6681, 5.0, 0.9999999999999997), ('Tony Hawks Pro Skater 2', 6693, 3.0, 0.9999999999999997), ('Blade', 6975, 2.0, 0.9999999999999997), ('The Grinch - GameBoy Color', 7012, 4.0, 0.9999999999999997), ('The Grinch - GameBoy Color', 7013, 4.0, 0.9999999999999997), ('The Simpsons Night of the Living Treehouse of Horror', 7014, 4.0, 0.9999999999999997), ('The Simpsons Night of the Living Treehouse of Horror', 7015, 4.0, 0.9999999999999997), ('Woody Woodpecker Racing', 7021, 5.0, 0.9999999999999997), ('Dragons Lair', 8431, 1.0, 0.9999999999999997), ('The Flintstones Burgertime in Bedrock', 8533, 5.0, 0.9999999999999997), ('Kirby Tilt N Tumble', 8802, 4.0, 0.9999999999999997), ('Kirby Tilt N Tumble', 8803, 5.0, 0.9999999999999997), ('Bugs Bunny Crazy Castle 2', 9013, 5.0, 0.9999999999999997), ('Lara Croft Tomb Raider - Curse of the Sword', 9580, 5.0, 0.9999999999999997), ('Lara Croft Tomb Raider - Curse of the Sword', 9581, 3.0, 0.9999999999999997), ('Mega Man Xtreme 2', 9995, 5.0, 0.9999999999999997), ('Toy Story 2', 1663, 4.0, 0.9244075720225742), ('Game Boy Camera - Red', 2401, 5.0, 0.9244075720225742), ('Mortal Kombat II', 2407, 1.0, 0.9244075720225742), ('Mortal Kombat II', 2408, 4.0, 0.9244075720225742), ('Mortal Kombat II', 2409, 4.0, 0.9244075720225742), ('Mortal Kombat II', 2410, 3.0, 0.9244075720225742), ('Mortal Kombat II', 2411, 4.0, 0.9244075720225742), ('Nyko Worm Light Kiwi Green', 4069, 3.0, 0.9244075720225742), ('Ten Pin Bowling with Rumble Game Boy Color Only', 9218, 5.0, 0.9244075720225742), ('Ten Pin Bowling with Rumble Game Boy Color Only', 9219, 1.0, 0.9244075720225742), ('Donkey Kong Land III', 589, 4.0, 0.9144975777215626), ('Bugs Bunny in Crazy Castle 3', 590, 5.0, 0.9144975777215626), ('Bugs Bunny in Crazy Castle 3', 591, 4.0, 0.9144975777215626), ('Pokemon - Red Version', 595, 4.0, 0.9144975777215626), ('Pokemon - Red Version', 596, 5.0, 0.9144975777215626), ('Pokemon - Red Version', 597, 3.0, 0.9144975777215626), ('Pokemon - Red Version', 598, 5.0, 0.9144975777215626), ('Pokemon - Red Version', 599, 5.0, 0.9144975777215626), ('Pokemon - Red Version', 600, 5.0, 0.9144975777215626), ('Pokemon - Red Version', 601, 3.0, 0.9144975777215626), ('Pokemon - Red Version', 602, 5.0, 0.9144975777215626), ('Pokemon - Red Version', 603, 5.0, 0.9144975777215626), ('Pokemon - Red Version', 604, 5.0, 0.9144975777215626), ('Pokemon - Red Version', 605, 5.0, 0.9144975777215626), ('Pokemon - Red Version', 606, 5.0, 0.9144975777215626), ('Pokemon - Red Version', 607, 4.0, 0.9144975777215626), ('Marble Madness', 936, 4.0, 0.9144975777215626), ('Street Fighter Alpha Warriors Dreams', 969, 4.0, 0.9144975777215626), ('Street Fighter Alpha Warriors Dreams', 970, 4.0, 0.9144975777215626), ('WWF Wrestlemania 2000', 1694, 1.0, 0.9144975777215626), ('WWF Wrestlemania 2000', 1695, 4.0, 0.9144975777215626)]\n"
          ]
        }
      ]
    },
    {
      "cell_type": "code",
      "source": [
        "import numpy as np\n",
        "test_label = []\n",
        "for i in range(len(test)):\n",
        "  if (test[i][3] >= 0.1):\n",
        "    test_label.append(1)\n",
        "  else:\n",
        "    test_label.append(0)\n",
        "test_label = np.array(test_label)\n",
        "print(len(test_label))\n",
        "test_label"
      ],
      "metadata": {
        "id": "foGfqFxPOHpN",
        "colab": {
          "base_uri": "https://localhost:8080/"
        },
        "outputId": "722ddd21-5327-4901-f37e-378dc2e8f84b"
      },
      "execution_count": null,
      "outputs": [
        {
          "output_type": "stream",
          "name": "stdout",
          "text": [
            "100\n"
          ]
        },
        {
          "output_type": "execute_result",
          "data": {
            "text/plain": [
              "array([1, 1, 1, 1, 1, 1, 1, 1, 1, 1, 1, 1, 1, 1, 1, 1, 1, 1, 1, 1, 1, 1,\n",
              "       1, 1, 1, 1, 1, 1, 1, 1, 1, 1, 1, 1, 1, 1, 1, 1, 1, 1, 1, 1, 1, 1,\n",
              "       1, 1, 1, 1, 1, 1, 1, 1, 1, 1, 1, 1, 1, 1, 1, 1, 1, 1, 1, 1, 1, 1,\n",
              "       1, 1, 1, 1, 1, 1, 1, 1, 1, 1, 1, 1, 1, 1, 1, 1, 1, 1, 1, 1, 1, 1,\n",
              "       1, 1, 1, 1, 1, 1, 1, 1, 1, 1, 1, 1])"
            ]
          },
          "metadata": {},
          "execution_count": 95
        }
      ]
    },
    {
      "cell_type": "code",
      "source": [
        "true_label = []\n",
        "for i in range(len(test)):\n",
        "  if (test[i][2] >= 3.0):\n",
        "    true_label.append(1)\n",
        "  else:\n",
        "    true_label.append(0)\n",
        "true_label = np.array(true_label)\n",
        "print(len(true_label))\n",
        "true_label"
      ],
      "metadata": {
        "colab": {
          "base_uri": "https://localhost:8080/"
        },
        "id": "EwbWVfRsW328",
        "outputId": "449269c7-0f2c-4ad3-fba8-48f6f43ded7b"
      },
      "execution_count": null,
      "outputs": [
        {
          "output_type": "stream",
          "name": "stdout",
          "text": [
            "100\n"
          ]
        },
        {
          "output_type": "execute_result",
          "data": {
            "text/plain": [
              "array([1, 0, 1, 1, 1, 1, 1, 0, 1, 1, 1, 1, 0, 1, 1, 1, 1, 1, 1, 1, 1, 1,\n",
              "       1, 1, 1, 1, 1, 1, 1, 1, 1, 1, 1, 1, 1, 1, 1, 1, 1, 0, 1, 1, 1, 1,\n",
              "       1, 1, 1, 1, 1, 1, 1, 1, 1, 1, 1, 0, 1, 1, 1, 1, 1, 0, 1, 1, 1, 1,\n",
              "       1, 1, 1, 1, 1, 0, 1, 1, 1, 1, 1, 1, 0, 1, 1, 1, 1, 1, 1, 1, 1, 1,\n",
              "       1, 1, 1, 1, 1, 1, 1, 1, 1, 1, 0, 1])"
            ]
          },
          "metadata": {},
          "execution_count": 96
        }
      ]
    },
    {
      "cell_type": "code",
      "source": [
        "from sklearn.metrics import precision_score\n",
        "from sklearn.metrics import recall_score\n",
        "from sklearn.metrics import f1_score\n",
        "from sklearn.metrics import accuracy_score\n",
        "\n",
        "# precision\n",
        "prec = precision_score(true_label, test_label, average=\"macro\")\n",
        "print(\"precision: \", prec)\n",
        "\n",
        "# recall\n",
        "recall = recall_score(true_label, test_label, average=\"macro\")\n",
        "print(\"recall: \", recall)\n",
        "\n",
        "# f1\n",
        "f1 = f1_score(true_label, test_label, average=\"macro\")\n",
        "print(\"f1: \", f1)"
      ],
      "metadata": {
        "id": "mOT7MYSOOHud",
        "colab": {
          "base_uri": "https://localhost:8080/"
        },
        "outputId": "74f2de04-4b6e-49f9-bcff-f5d8f94bba21"
      },
      "execution_count": null,
      "outputs": [
        {
          "output_type": "stream",
          "name": "stdout",
          "text": [
            "precision:  0.455\n",
            "recall:  0.5\n",
            "f1:  0.47643979057591623\n"
          ]
        },
        {
          "output_type": "stream",
          "name": "stderr",
          "text": [
            "/usr/local/lib/python3.7/dist-packages/sklearn/metrics/_classification.py:1308: UndefinedMetricWarning: Precision is ill-defined and being set to 0.0 in labels with no predicted samples. Use `zero_division` parameter to control this behavior.\n",
            "  _warn_prf(average, modifier, msg_start, len(result))\n"
          ]
        }
      ]
    }
  ]
}